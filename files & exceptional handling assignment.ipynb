{
 "cells": [
  {
   "cell_type": "code",
   "execution_count": 1,
   "id": "16f14959-b352-40a6-bda5-d035f976ee8d",
   "metadata": {},
   "outputs": [],
   "source": [
    "## 1. Discuss the scenarios where multithreading is preferable to multiprocessing and scenarios where multiprocessing is a better choice.\n",
    "\n",
    "#Multithreading is ideal for tasks that are I/O-bound or require frequent access to shared data, as threads can efficiently communicate and synchronise access to shared resources because the code is running in same core. \n",
    "#Multiprocessing: Best suited for CPU-intensive tasks that can be easily parallelised without frequent inter-process communication."
   ]
  },
  {
   "cell_type": "code",
   "execution_count": 2,
   "id": "90c2a8ca-7441-457a-a7aa-a810b54c8c26",
   "metadata": {},
   "outputs": [],
   "source": [
    "##  2. Describe what a process pool is and how it helps in managing multiple processes efficiently.\n",
    "\n",
    "#The pool allows you to do multiple jobs per process, which may make it easier to parallelize your program. If you have a million tasks to execute in parallel, you can create a Pool with a number of processes as many as CPU cores and then pass the list of the million tasks to the pool. Map"
   ]
  },
  {
   "cell_type": "code",
   "execution_count": 3,
   "id": "b1d2d0f4-1894-4fd5-9523-5f3dbb025569",
   "metadata": {},
   "outputs": [],
   "source": [
    "##  3. Explain what multiprocessing is and why it is used in Python programs.\n",
    "\n",
    "#Multiprocessing in pandas is to execute multiple or process in parallel.In a computer there are many core and by using multiprocessing each core is assigned with the piece of code to execute. the use of this multiprocessing task is to divide a big code into piece of code and execute with the shortest time possible,"
   ]
  },
  {
   "cell_type": "code",
   "execution_count": 18,
   "id": "315e7299-8bb6-43a8-a518-d7f830fa3bc3",
   "metadata": {},
   "outputs": [],
   "source": [
    "\n",
    "## 4. Write a Python program using multithreading where one thread adds numbers to a list, and another thread removes numbers from the list. Implement a mechanism to avoid race conditions using threading.Lock.\n",
    "\n",
    "import multiprocessing\n",
    "\n",
    "l=[]\n",
    "def add(x):\n",
    "    l.append(x)\n",
    "def remove(x):\n",
    "    l.remove(x)\n",
    "\n",
    "t1 = multiprocessing.Process(target=add, args=(7, ))\n",
    "t2=  multiprocessing.Process(target=remove, args=(1, ))\n",
    "t1.start()\n",
    "t2.start()\n",
    "t1.join()\n",
    "t2.join()\n"
   ]
  },
  {
   "cell_type": "code",
   "execution_count": null,
   "id": "9f34bfcf-0a1c-4781-8d82-abaae13907ef",
   "metadata": {},
   "outputs": [],
   "source": []
  },
  {
   "cell_type": "code",
   "execution_count": 8,
   "id": "5f7bff03-d2b3-490a-89a4-dfb774929e11",
   "metadata": {},
   "outputs": [],
   "source": [
    "## 5. Describe the methods and tools available in Python for safely sharing data between threads and processes.\n",
    "\n",
    "#the methods are -\n",
    "#Queue Module: Employ the queue module for thread-safe data sharing via queues.\n",
    "#Thread-Safe Classes: Design custom classes with built-in thread safety using locks.\n",
    "#Event Objects: Use threading. Event for signaling between threads."
   ]
  },
  {
   "cell_type": "code",
   "execution_count": 9,
   "id": "7bb332ba-1b01-4cec-978d-a243f6892535",
   "metadata": {},
   "outputs": [
    {
     "name": "stdout",
     "output_type": "stream",
     "text": [
      "division by zero\n",
      "8\n",
      "Your name is Ajay \n",
      "5\n",
      "The code ends\n"
     ]
    }
   ],
   "source": [
    "##  6. Discuss why it’s crucial to handle exceptions in concurrent programs and the techniques available for doing so.\n",
    "\n",
    "#it's crucial to handle exceptions in concurrent programs because for example if a piece of code not work,the codes next to it will also be suspended.Handling exception puts robustness to the python.it ensures that even if something goes wrong, the program can recover and continue executing without crashing.\n",
    "\n",
    "try:\n",
    "    5/0\n",
    "except Exception as e:\n",
    "    print(e)\n",
    "print(5+3)\n",
    "print(\"Your name is Ajay \")\n",
    "print(2+3)\n",
    "print(\"The code ends\")"
   ]
  },
  {
   "cell_type": "code",
   "execution_count": 12,
   "id": "60829c7f-c516-4651-80b2-6088ae626aed",
   "metadata": {},
   "outputs": [
    {
     "data": {
      "text/plain": [
       "[0, 1, 1, 2, 3, 5, 8, 13, 21, 34]"
      ]
     },
     "execution_count": 12,
     "metadata": {},
     "output_type": "execute_result"
    }
   ],
   "source": [
    "##  7. Create a program that uses a thread pool to calculate the factorial of numbers from 1 to 10 concurrently. Use concurrent.futures.ThreadPoolExecutor to manage the threads\n",
    "\n",
    "fib = lambda n: n if n<=1 else fib(n-1) + fib(n-2)\n",
    "[fib(i) for i in range(10)]"
   ]
  },
  {
   "cell_type": "code",
   "execution_count": 20,
   "id": "3487b264-3074-4652-ae03-7675a6f5fc94",
   "metadata": {},
   "outputs": [
    {
     "name": "stdout",
     "output_type": "stream",
     "text": [
      "Square: 1\n",
      "Square: 4\n",
      "Square: 9\n",
      "Square: 16\n",
      "Square: 25\n",
      "Square: 36\n",
      "Square: 49\n",
      "Square: 64\n",
      "Square: 81\n",
      "Square: 100\n"
     ]
    }
   ],
   "source": [
    "## 8. Create a Python program that uses multiprocessing.Pool to compute the square of numbers from 1 to 10 in parallel. \n",
    "\n",
    "import multiprocessing\n",
    "def print_square(num):\n",
    "    print(\"Square: {}\".format(num * num))\n",
    "if __name__ == \"__main__\":\n",
    "    # creating processes\n",
    "    p1 = multiprocessing.Process(target=print_square, args=(1, ))\n",
    "    p2 = multiprocessing.Process(target=print_square, args=(2, ))\n",
    "    p3 = multiprocessing.Process(target=print_square, args=(3, ))\n",
    "    p4 = multiprocessing.Process(target=print_square, args=(4, ))\n",
    "    p5 = multiprocessing.Process(target=print_square, args=(5, ))\n",
    "    p6 = multiprocessing.Process(target=print_square, args=(6, ))\n",
    "    p7 = multiprocessing.Process(target=print_square, args=(7, ))\n",
    "    p8 = multiprocessing.Process(target=print_square, args=(8, ))\n",
    "    p9 = multiprocessing.Process(target=print_square, args=(9, ))\n",
    "    p10 = multiprocessing.Process(target=print_square, args=(10, ))\n",
    "\n",
    "\n",
    "    p1.start()\n",
    "\n",
    "    p2.start()\n",
    "    p3.start()\n",
    "    p4.start()\n",
    "    p5.start()\n",
    "    p6.start()\n",
    "    p7.start()\n",
    "    p8.start()\n",
    "    p9.start()\n",
    "    p10.start()\n",
    "\n",
    "    \n",
    "    p1.join()\n",
    "\n",
    "    p2.join()\n",
    "    \n",
    "    p3.join()\n",
    "    p4.join()\n",
    "    p5.join()\n",
    "    p6.join()\n",
    "    p7.join()\n",
    "    p8.join()\n",
    "    p9.join()\n",
    "    p10.join()\n",
    "\n"
   ]
  },
  {
   "cell_type": "code",
   "execution_count": null,
   "id": "c78fa4e4-fbce-4716-819c-86d6d8e897b7",
   "metadata": {},
   "outputs": [],
   "source": []
  }
 ],
 "metadata": {
  "kernelspec": {
   "display_name": "Python 3 (ipykernel)",
   "language": "python",
   "name": "python3"
  },
  "language_info": {
   "codemirror_mode": {
    "name": "ipython",
    "version": 3
   },
   "file_extension": ".py",
   "mimetype": "text/x-python",
   "name": "python",
   "nbconvert_exporter": "python",
   "pygments_lexer": "ipython3",
   "version": "3.12.5"
  }
 },
 "nbformat": 4,
 "nbformat_minor": 5
}
