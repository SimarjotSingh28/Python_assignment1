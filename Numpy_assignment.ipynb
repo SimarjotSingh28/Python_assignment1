{
 "cells": [
  {
   "cell_type": "code",
   "execution_count": 1,
   "id": "edca4a3a-a251-4075-97cf-e8e3514d014c",
   "metadata": {},
   "outputs": [],
   "source": [
    "## 1. Explain the purpose and advantages of NumPy in scientific computing and data analysis. How does it enhance Python's capabilities for numerical operations?\n",
    "\n",
    "# NumPy stands for “Numerical Python” and it is the standard Python library used for working with arrays , linear algebra, and other numerical computations. NumPy is written in C, making NumPy arrays faster and more memory efficient than Python lists or arrays.\n",
    "#Performance: NumPy’s array operations are executed at compiled C speed, making them significantly faster than equivalent operations performed using Python lists.\n",
    "#Memory Efficiency: NumPy arrays use contiguous memory blocks, reducing overhead compared to Python lists\n"
   ]
  },
  {
   "cell_type": "code",
   "execution_count": 2,
   "id": "ca0c323e-c164-4d02-8ddf-acb452d89285",
   "metadata": {},
   "outputs": [],
   "source": [
    "## 2. Compare and contrast np.mean() and np.average() functions in NumPy. When would you use one over the other?\n",
    "\n",
    "#The np. mean() method returns the arithmetic mean, but the np. average() function returns the algebraic mean if no additional parameters are specified, but it may also be used to compute a weighted average."
   ]
  },
  {
   "cell_type": "code",
   "execution_count": 3,
   "id": "f41332b0-b243-4967-a02c-d92d2049e78b",
   "metadata": {},
   "outputs": [],
   "source": [
    "## 3. Describe the methods for reversing a NumPy array along different axes. Provide examples for 1D and 2D arrays.\n",
    "\n",
    "#By using the slicing method \n",
    "#[::-1]\n",
    "#putting this keyword behind the array make it reverse.\n"
   ]
  },
  {
   "cell_type": "code",
   "execution_count": 5,
   "id": "be4c34ba-c1d9-4925-9fb0-fbe91da9f7e5",
   "metadata": {},
   "outputs": [],
   "source": [
    "##  4. How can you determine the data type of elements in a NumPy array? Discuss the importance of data types in memory management and performance.\n",
    "\n",
    "#we can determine the data type of element in a numpy array by using .dtype in the suffix of the array\n",
    "#example = arr.dtype\n",
    "# we can also create the array which has only one datatype\n",
    "#example= \n",
    "# arr = np.array([1, 2, 3, 4], dtype='S')\n",
    "#this will make all the array in string \n",
    "#data types in memory management and performance plays a crucial role because the data type tells the compiler of the amount of data stored and its data type does maiking it efficient for the compiler to search \n"
   ]
  },
  {
   "cell_type": "code",
   "execution_count": 6,
   "id": "fd0d6e56-0601-46c1-a462-8fefce0deffe",
   "metadata": {},
   "outputs": [],
   "source": [
    "## 5. Define ndarrays in NumPy and explain their key features. How do they differ from standard Python lists?\n",
    "\n",
    "#ndarrays are n-dimmension array used to store data, it is homogeneous\n",
    "# we can also use varies operation on the elements in the array\n",
    "#They differ from list in many aspects like-\n",
    "#memory efficiency-list are not memory efficient but the numpy array are more memory efficient\n",
    "#mathematical operation-we cannot apply much mathematical operation on list but thereby using numpy array allows the user to use various mathematical operation \n"
   ]
  },
  {
   "cell_type": "code",
   "execution_count": 8,
   "id": "a273912e-a325-4e0f-b0f9-1c641e62421c",
   "metadata": {},
   "outputs": [],
   "source": [
    "## 6. Analyze the performance benefits of NumPy arrays over Python lists for large-scale numerical operations.\n",
    "\n",
    "#The important feature why user use numpy array over lists is performance\n",
    "#performance is the important factor in coding\n",
    "#numpy array is faster than list because of its homogeneous type and also numpy compiles the code in c language and as we know that c langauage is fast language.thus the numpy array code executes faster and it takes less time than the list"
   ]
  },
  {
   "cell_type": "code",
   "execution_count": 13,
   "id": "828dc18b-fe4e-403b-96f4-c13456f7385f",
   "metadata": {},
   "outputs": [
    {
     "name": "stdout",
     "output_type": "stream",
     "text": [
      "the use of vstack= [[1 2 3]\n",
      " [4 5 6]]\n",
      "the use of vstack= [1 2 3 4 5 6]\n"
     ]
    }
   ],
   "source": [
    "##  7. Compare vstack() and hstack() functions in NumPy. Provide examples demonstrating their usage and output.\n",
    "\n",
    "#numpy.hstack() function is used to stack the sequence of input arrays horizontally (i.e. column wise) to make a single array.\n",
    "#numpy.vstack() function is used to stack the sequence of input arrays vertically to make a single array.\n",
    "\n",
    "import numpy as np\n",
    "arr1=np.array([1,2,3])\n",
    "arr2=np.array([4,5,6])\n",
    "print('the use of vstack=',np.vstack((arr1,arr2)))\n",
    "print('the use of vstack=',np.hstack((arr1,arr2)))\n"
   ]
  },
  {
   "cell_type": "code",
   "execution_count": 14,
   "id": "82b0b8d0-813b-47da-9fbb-3074de584fbd",
   "metadata": {},
   "outputs": [],
   "source": [
    "## 8. Explain the differences between fliplr() and flipud() methods in NumPy, including their effects on various array dimensions.\n",
    "\n",
    "#flipud()=Reverse the order of elements along axis 0 (up/down).For a 2-D array, this flips the entries in each column in the up/down direction. Rows are preserved, but appear in a different order than before.\n",
    "#fipr()=Reverse the order of elements along axis 1 (left/right).For a 2-D array, this flips the entries in each row in the left/right direction. Columns are preserved, but appear in a different order than before."
   ]
  },
  {
   "cell_type": "code",
   "execution_count": 15,
   "id": "3e506ace-f0e7-437c-bf6f-4be26b7b409e",
   "metadata": {},
   "outputs": [],
   "source": [
    "## 9. Discuss the functionality of the array_split() method in NumPy. How does it handle uneven splits?\n",
    "\n",
    "#With the help of array_split() method, we can get the splitted array of having different dimensions by using numpy.array_split() method.\n",
    "#it splits the data on the basis of indexes"
   ]
  },
  {
   "cell_type": "code",
   "execution_count": 17,
   "id": "c4565c82-161e-46d1-a6eb-4d562d2761e7",
   "metadata": {},
   "outputs": [],
   "source": [
    "##  10. Explain the concepts of vectorization and broadcasting in NumPy. How do they contribute to efficient array operations\n",
    "\n",
    "#Broadcasting is the concept of making arrays with different shapes compatible for arithmetic operations.The numpy. broadcast() function is used to apply binary operations to arrays of different shapes.\n",
    "#Vectorized operations in NumPy enable the use of efficient, pre-compiled functions and mathematical operations on NumPy arrays and data sequences. Vectorization is a method of performing array operations without the use of for loops."
   ]
  },
  {
   "cell_type": "code",
   "execution_count": null,
   "id": "87da2774-1519-47fc-a4ef-eb06f2d9db73",
   "metadata": {},
   "outputs": [],
   "source": []
  },
  {
   "cell_type": "code",
   "execution_count": null,
   "id": "e3a68800-e01d-4aec-b7f8-e851d8eef87e",
   "metadata": {},
   "outputs": [],
   "source": []
  },
  {
   "cell_type": "code",
   "execution_count": null,
   "id": "f3170157-a998-49cf-821d-910d45e643a4",
   "metadata": {},
   "outputs": [],
   "source": []
  },
  {
   "cell_type": "code",
   "execution_count": null,
   "id": "c4be28d6-5cfa-44f6-b4fa-8431070454a2",
   "metadata": {},
   "outputs": [],
   "source": []
  },
  {
   "cell_type": "code",
   "execution_count": null,
   "id": "39a84c2a-0521-4ed9-8b5e-7afcf3ed757a",
   "metadata": {},
   "outputs": [],
   "source": []
  },
  {
   "cell_type": "code",
   "execution_count": 18,
   "id": "66008f02-7b7c-43df-82d2-210a7b41bd83",
   "metadata": {},
   "outputs": [],
   "source": [
    "                                            #PRACTICAL QUESTION#"
   ]
  },
  {
   "cell_type": "code",
   "execution_count": 25,
   "id": "c2400867-a580-4609-a67f-a69287643bf2",
   "metadata": {},
   "outputs": [
    {
     "data": {
      "text/plain": [
       "array([[54, 10, 10],\n",
       "       [ 1, 11, 54],\n",
       "       [47, 56,  4]])"
      ]
     },
     "execution_count": 25,
     "metadata": {},
     "output_type": "execute_result"
    }
   ],
   "source": [
    "## 1. Create a 3x3 NumPy array with random integers between 1 and 100. Then, interchange its rows and columns.\n",
    "\n",
    "import numpy as np\n",
    "np.random.randint(1,100, size = (3, 3))"
   ]
  },
  {
   "cell_type": "code",
   "execution_count": 26,
   "id": "ce304c2d-a9b2-48a6-a78e-f368181bc32b",
   "metadata": {},
   "outputs": [
    {
     "data": {
      "text/plain": [
       "array([[ 1,  2,  3,  4,  5],\n",
       "       [ 6,  7,  8,  9, 10]])"
      ]
     },
     "execution_count": 26,
     "metadata": {},
     "output_type": "execute_result"
    }
   ],
   "source": [
    "##  2. Generate a 1D NumPy array with 10 elements. Reshape it into a 2x5 array, then into a 5x2 array.\n",
    "\n",
    "array1=np.array([1,2,3,4,5,6,7,8,9,10])\n",
    "array2=array1.reshape(2,5)\n",
    "array2"
   ]
  },
  {
   "cell_type": "code",
   "execution_count": 27,
   "id": "317482ac-2fcd-47fe-bb3c-bda18b840d2e",
   "metadata": {},
   "outputs": [
    {
     "data": {
      "text/plain": [
       "array([[ 1,  2],\n",
       "       [ 3,  4],\n",
       "       [ 5,  6],\n",
       "       [ 7,  8],\n",
       "       [ 9, 10]])"
      ]
     },
     "execution_count": 27,
     "metadata": {},
     "output_type": "execute_result"
    }
   ],
   "source": [
    "array2.reshape(5,2)"
   ]
  },
  {
   "cell_type": "code",
   "execution_count": 32,
   "id": "1fd2aa00-acfa-43f5-a4ca-d9fd27a80eb4",
   "metadata": {},
   "outputs": [
    {
     "data": {
      "text/plain": [
       "array([[0.        , 0.        , 0.        , 0.        , 0.        ,\n",
       "        0.        ],\n",
       "       [0.        , 0.21298335, 0.12113358, 0.17131207, 0.61074587,\n",
       "        0.        ],\n",
       "       [0.        , 0.69142668, 0.42450873, 0.10076604, 0.26799619,\n",
       "        0.        ],\n",
       "       [0.        , 0.09283794, 0.21594185, 0.58358695, 0.12297603,\n",
       "        0.        ],\n",
       "       [0.        , 0.65256783, 0.70420967, 0.37244332, 0.92554439,\n",
       "        0.        ],\n",
       "       [0.        , 0.        , 0.        , 0.        , 0.        ,\n",
       "        0.        ]])"
      ]
     },
     "execution_count": 32,
     "metadata": {},
     "output_type": "execute_result"
    }
   ],
   "source": [
    "## 3. Create a 4x4 NumPy array with random float values. Add a border of zeros around it, resulting in a 6x6 array.\n",
    "\n",
    "array1=np.random.rand(4,4)\n",
    "np.pad(array1, pad_width=1, mode='constant', constant_values=0)"
   ]
  },
  {
   "cell_type": "code",
   "execution_count": 35,
   "id": "46cb68de-f266-4a29-8b70-48ab49e5c8be",
   "metadata": {},
   "outputs": [],
   "source": [
    "## 4. Using NumPy, create an array of integers from 10 to 60 with a step of 5\n",
    "\n",
    "array1=np.random.randint(10,60, size = (3, 3))\n"
   ]
  },
  {
   "cell_type": "code",
   "execution_count": 40,
   "id": "02ded8f4-d87e-4565-b218-47ff7b547c1b",
   "metadata": {},
   "outputs": [
    {
     "name": "stdout",
     "output_type": "stream",
     "text": [
      "['PYTHON' 'NUMPY' 'PANDAS']\n",
      "['python' 'numpy' 'pandas']\n"
     ]
    }
   ],
   "source": [
    "##5. Create a NumPy array of strings ['python', 'numpy', 'pandas']. Apply different case transformations (uppercase, lowercase, title case, etc.) to each element.\n",
    "array1=np.array(['python', 'numpy', 'pandas'])\n",
    "print(np.char.upper(array1))\n",
    "print(np.char.lower(array1))"
   ]
  },
  {
   "cell_type": "code",
   "execution_count": 2,
   "id": "01f0c72e-478f-4666-a41f-3c7199692485",
   "metadata": {},
   "outputs": [],
   "source": [
    "##  6. Generate a NumPy array of words. Insert a space between each character of every word in the array.\n",
    "import numpy as np\n",
    "array1=np.array(['python', 'numpy', 'pandas'])\n",
    "space=np.char.join(' ',array1)"
   ]
  },
  {
   "cell_type": "code",
   "execution_count": 3,
   "id": "f1e3d6f6-3c65-4813-bdfe-794594821549",
   "metadata": {},
   "outputs": [
    {
     "data": {
      "text/plain": [
       "array(['p y t h o n', 'n u m p y', 'p a n d a s'], dtype='<U11')"
      ]
     },
     "execution_count": 3,
     "metadata": {},
     "output_type": "execute_result"
    }
   ],
   "source": [
    "space"
   ]
  },
  {
   "cell_type": "code",
   "execution_count": 15,
   "id": "d3595a9e-193e-42f5-820b-71abd5b74d63",
   "metadata": {},
   "outputs": [
    {
     "name": "stdout",
     "output_type": "stream",
     "text": [
      "addition =\n",
      " [[ 7  7 12]\n",
      " [12  6 14]]\n",
      "subtraction =\n",
      " [[-3  1  0]\n",
      " [-6  2  2]]\n",
      "multiplication =\\m [[10 12 36]\n",
      " [27  8 48]]\n",
      "division =\n",
      " [[0.4        1.33333333 1.        ]\n",
      " [0.33333333 2.         1.33333333]]\n"
     ]
    }
   ],
   "source": [
    "##  7. Create two 2D NumPy arrays and perform element-wise addition, subtraction, multiplication, and division.\n",
    "\n",
    "array1=np.array([[2,4,6],[3,4,8]])\n",
    "array2=np.array([[5,3,6],[9,2,6]])\n",
    "print('addition =\\n',array1+array2)\n",
    "print('subtraction =\\n',array1-array2)\n",
    "print('multiplication =\\m',array1*array2)\n",
    "print('division =\\n',array1/array2)"
   ]
  },
  {
   "cell_type": "code",
   "execution_count": 16,
   "id": "ca43d726-328b-460e-a658-870c90149436",
   "metadata": {},
   "outputs": [
    {
     "data": {
      "text/plain": [
       "array([[1., 0., 0., 0., 0.],\n",
       "       [0., 1., 0., 0., 0.],\n",
       "       [0., 0., 1., 0., 0.],\n",
       "       [0., 0., 0., 1., 0.],\n",
       "       [0., 0., 0., 0., 1.]])"
      ]
     },
     "execution_count": 16,
     "metadata": {},
     "output_type": "execute_result"
    }
   ],
   "source": [
    "##  8. Use NumPy to create a 5x5 identity matrix, then extract its diagonal elements.\n",
    "\n",
    "np.eye(5)"
   ]
  },
  {
   "cell_type": "code",
   "execution_count": 85,
   "id": "0e6e0036-77b2-4dfc-9bd6-a6db3b9a206d",
   "metadata": {},
   "outputs": [
    {
     "data": {
      "text/plain": [
       "array([ 9,  8, 14, 56, 15, 60, 92, 56, 80, 93, 81,  7, 52, 58, 50, 14, 44,\n",
       "       93, 19, 15,  1, 80, 26, 42, 21, 24, 91, 81, 18, 38, 20, 70, 86,  3,\n",
       "        7, 26, 60,  9, 61, 40, 76, 24, 16, 88,  9, 25, 83, 98, 27, 81, 30,\n",
       "       40, 15, 71, 39, 27, 81, 60, 45, 81, 93, 22, 29, 66, 33, 49, 17, 61,\n",
       "       38, 85, 49, 80, 58, 63, 34, 36, 77, 89, 42, 84, 71, 69, 57, 90, 41,\n",
       "       35, 36,  0, 83, 77, 96, 79, 99, 21, 84, 29, 55, 28, 60, 60])"
      ]
     },
     "execution_count": 85,
     "metadata": {},
     "output_type": "execute_result"
    }
   ],
   "source": [
    "##  9. Generate a NumPy array of 100 random integers between 0 and 1000. Find and display all prime numbers in this array.\n",
    "\n",
    "def isprime(x):\n",
    "    for i in range(1,101):\n",
    "        if(x%i==0):\n",
    "            continue\n",
    "        else:\n",
    "            print(x)\n",
    "\n",
    "array1=np.random.randint(0,100,size=(100))\n",
    "lsit=[]\n",
    "for i in array1:\n",
    "    lsit.append(i)\n",
    "array1"
   ]
  },
  {
   "cell_type": "code",
   "execution_count": null,
   "id": "12220eb0-ccfa-4409-a1ff-3054dbd2f3d2",
   "metadata": {},
   "outputs": [],
   "source": [
    "##  10. Create a NumPy array representing daily temperatures for a month. Calculate and display the weekly averages"
   ]
  },
  {
   "cell_type": "code",
   "execution_count": 122,
   "id": "ae6b6397-260e-4651-a880-99acbae3d3a6",
   "metadata": {},
   "outputs": [
    {
     "name": "stdout",
     "output_type": "stream",
     "text": [
      "10.107142857142858\n",
      "18.0\n",
      "24.964285714285715\n",
      "31.642857142857142\n"
     ]
    }
   ],
   "source": [
    "temperatures = np.random.randint(20,51,size=(28))\n",
    " \n",
    "n = len(temperatures)\n",
    " \n",
    "sum = 0\n",
    "for temp in temperatures[0:8]:\n",
    "    sum += temp\n",
    "    average=sum/n\n",
    "print(average)\n",
    "     \n",
    "for temp in temperatures[8:15]:\n",
    "    sum += temp\n",
    "    average=sum/n\n",
    "print(average)\n",
    "    \n",
    "for temp in temperatures[15:22]:\n",
    "    sum += temp\n",
    "    average=sum/n\n",
    "print(average)\n",
    "    \n",
    "for temp in temperatures[22:29]:\n",
    "    sum += temp\n",
    "    average=sum/n\n",
    "print(average)\n",
    "    \n"
   ]
  },
  {
   "cell_type": "code",
   "execution_count": null,
   "id": "6c4dc384-74ba-43a0-9b7b-c0197434b1d9",
   "metadata": {},
   "outputs": [],
   "source": []
  },
  {
   "cell_type": "code",
   "execution_count": null,
   "id": "59835b70-c895-4a5a-986d-1c43a4505f60",
   "metadata": {},
   "outputs": [],
   "source": []
  }
 ],
 "metadata": {
  "kernelspec": {
   "display_name": "Python 3 (ipykernel)",
   "language": "python",
   "name": "python3"
  },
  "language_info": {
   "codemirror_mode": {
    "name": "ipython",
    "version": 3
   },
   "file_extension": ".py",
   "mimetype": "text/x-python",
   "name": "python",
   "nbconvert_exporter": "python",
   "pygments_lexer": "ipython3",
   "version": "3.10.8"
  }
 },
 "nbformat": 4,
 "nbformat_minor": 5
}
