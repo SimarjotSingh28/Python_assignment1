{
 "cells": [
  {
   "cell_type": "code",
   "execution_count": null,
   "id": "b248f6ec-0436-43c3-94c5-0479fbf6662d",
   "metadata": {},
   "outputs": [],
   "source": [
    "##Explain the key features of Python that make it a popular choice for programming.\n",
    "\n",
    "#Key features of Python that make it a popular choice for programming are-\n",
    "#Readability-It is easy to read. it looks like simple english words.\n",
    "#Code-it is easy to code. it is an effortless language to learn. it's syntax is also simple unlike languages like c,c++,java.\n",
    "#it is a robust language \n",
    "#standard library-Python has extensive standard library available for anyone for use.\n",
    "#oops(obect oriented programming)-It is the main concept of programming in every language. it comprises of class and objects. mainly it focuses of using a function for multiple times.\n",
    "#supports for GUI-GUI is graphical user interface. it means that a user can easily interact with software using gui.\n"
   ]
  },
  {
   "cell_type": "code",
   "execution_count": 4,
   "id": "0cb608a5-51bf-4371-ad54-32fa50de359a",
   "metadata": {},
   "outputs": [
    {
     "name": "stdout",
     "output_type": "stream",
     "text": [
      "\n",
      "Here is a list of the Python keywords.  Enter any keyword to get more help.\n",
      "\n",
      "False               class               from                or\n",
      "None                continue            global              pass\n",
      "True                def                 if                  raise\n",
      "and                 del                 import              return\n",
      "as                  elif                in                  try\n",
      "assert              else                is                  while\n",
      "async               except              lambda              with\n",
      "await               finally             nonlocal            yield\n",
      "break               for                 not                 \n",
      "\n"
     ]
    }
   ],
   "source": [
    "## Describe the role of predefined keywords in Python and provide examples of how they are used in a program.\n",
    "\n",
    "#keywords are predefined or reserved keywords in python that are used to give a special meaning.\n",
    "#it comprises of some syntax\n",
    "#python Keywords cannot be used as identifiers.\n",
    "#all keywords is python should be in lower case except true and false\n",
    "#Examples-\n",
    "#and-it is an logical operator \n",
    "help('keywords') #will give all keywords"
   ]
  },
  {
   "cell_type": "code",
   "execution_count": 5,
   "id": "a01f74bf-3709-4ef2-9eaf-f5032dc137a5",
   "metadata": {},
   "outputs": [
    {
     "name": "stdout",
     "output_type": "stream",
     "text": [
      "greater\n"
     ]
    }
   ],
   "source": [
    "#if-it is a coditional statement \n",
    "if 300 > 100:\n",
    "    print(\"greater\")"
   ]
  },
  {
   "cell_type": "code",
   "execution_count": 6,
   "id": "b4253914-980c-4c43-b7da-d602a4322f59",
   "metadata": {},
   "outputs": [
    {
     "name": "stdout",
     "output_type": "stream",
     "text": [
      "a is equals to 100\n"
     ]
    }
   ],
   "source": [
    "#elif-it is also conditional statement but with many codition.\n",
    "a = 100\n",
    "if a > 100:\n",
    "    print(\"f a is greater than 100\")\n",
    "elif a < 100:\n",
    "    print(\" a is lesser than 100\")\n",
    "else:\n",
    "    print(\"a is equals to 100\")"
   ]
  },
  {
   "cell_type": "code",
   "execution_count": 7,
   "id": "97ed73b0-aeb0-46ea-9d14-a76ebacb7fb6",
   "metadata": {},
   "outputs": [
    {
     "name": "stdout",
     "output_type": "stream",
     "text": [
      "p\n",
      "w\n",
      "s\n",
      "k\n",
      "i\n",
      "l\n",
      "l\n",
      "s\n"
     ]
    }
   ],
   "source": [
    "#for- it is a loop statement\n",
    "for i in \"pwskills\":\n",
    "    print(i)"
   ]
  },
  {
   "cell_type": "code",
   "execution_count": 28,
   "id": "c02f116e-c88c-41e0-9fad-03ebe20b2826",
   "metadata": {},
   "outputs": [
    {
     "data": {
      "text/plain": [
       "[20, 2, 3, 4, 5]"
      ]
     },
     "execution_count": 28,
     "metadata": {},
     "output_type": "execute_result"
    }
   ],
   "source": [
    "## Compare and contrast mutable and immutable objects in Python with examples.\n",
    "\n",
    "#mutable-Data type whose values can be changed after creation.Retains the same memory location even after the content is modified.It is memory-efficient, as no new objects are created for frequent changes.EXAMPLE-List, Dictionaries, Set\n",
    "#immutable-Data types whose values can’t be changed or altered.Any modification results in a new object and new memory location.It might be faster in some scenarios as there’s no need to track changes.EXAMPLE-Strings, Types, Integer\n",
    "list_cont = [1, 2, 3,4,5]\n",
    "list_cont[0]=20\n",
    "list_cont     #mutable"
   ]
  },
  {
   "cell_type": "code",
   "execution_count": 11,
   "id": "759d1500-da43-41b1-9b6b-d428c9551750",
   "metadata": {},
   "outputs": [
    {
     "ename": "NameError",
     "evalue": "name 't' is not defined",
     "output_type": "error",
     "traceback": [
      "\u001b[0;31m---------------------------------------------------------------------------\u001b[0m",
      "\u001b[0;31mNameError\u001b[0m                                 Traceback (most recent call last)",
      "Cell \u001b[0;32mIn[11], line 2\u001b[0m\n\u001b[1;32m      1\u001b[0m q \u001b[38;5;241m=\u001b[39m \u001b[38;5;124m\"\u001b[39m\u001b[38;5;124mPwskills\u001b[39m\u001b[38;5;124m\"\u001b[39m\n\u001b[0;32m----> 2\u001b[0m q[\u001b[38;5;241m4\u001b[39m]\u001b[38;5;241m=\u001b[39m\u001b[43mt\u001b[49m\n",
      "\u001b[0;31mNameError\u001b[0m: name 't' is not defined"
     ]
    }
   ],
   "source": [
    "q = \"Pwskills\"\n",
    "q[4]=t        #immutable gives an error "
   ]
  },
  {
   "cell_type": "code",
   "execution_count": 27,
   "id": "7bab0251-0e55-4f77-a153-7be8bc228392",
   "metadata": {},
   "outputs": [
    {
     "data": {
      "text/plain": [
       "14"
      ]
     },
     "execution_count": 27,
     "metadata": {},
     "output_type": "execute_result"
    }
   ],
   "source": [
    "## Discuss the different types of operators in Python and provide examples of how they are used.\n",
    "\n",
    "#operators are special keywords that are used to perform operation on various values and variable.\n",
    "#there are many operators %,+,-,*,**,/ and various more\n",
    "#some of the examples are-\n",
    "a=5\n",
    "b=9\n",
    "a+b"
   ]
  },
  {
   "cell_type": "code",
   "execution_count": 15,
   "id": "bcf15d0d-97ca-4260-83c1-053f768f5b22",
   "metadata": {},
   "outputs": [
    {
     "data": {
      "text/plain": [
       "-4"
      ]
     },
     "execution_count": 15,
     "metadata": {},
     "output_type": "execute_result"
    }
   ],
   "source": [
    "a-b"
   ]
  },
  {
   "cell_type": "code",
   "execution_count": 16,
   "id": "9db896cd-409e-4294-9cf8-f643b7b3babd",
   "metadata": {},
   "outputs": [
    {
     "data": {
      "text/plain": [
       "5"
      ]
     },
     "execution_count": 16,
     "metadata": {},
     "output_type": "execute_result"
    }
   ],
   "source": [
    "a%b"
   ]
  },
  {
   "cell_type": "code",
   "execution_count": 17,
   "id": "36fc3425-68d3-4051-a47b-d612b1794ba9",
   "metadata": {},
   "outputs": [
    {
     "data": {
      "text/plain": [
       "45"
      ]
     },
     "execution_count": 17,
     "metadata": {},
     "output_type": "execute_result"
    }
   ],
   "source": [
    "a*b"
   ]
  },
  {
   "cell_type": "code",
   "execution_count": 18,
   "id": "bcc2ff80-c60e-4e02-90e9-03b140e4269e",
   "metadata": {},
   "outputs": [
    {
     "data": {
      "text/plain": [
       "1953125"
      ]
     },
     "execution_count": 18,
     "metadata": {},
     "output_type": "execute_result"
    }
   ],
   "source": [
    "a**b"
   ]
  },
  {
   "cell_type": "code",
   "execution_count": 26,
   "id": "a0eb7cc6-d504-4b4e-93ab-529e2e9cf6d3",
   "metadata": {},
   "outputs": [
    {
     "ename": "TypeError",
     "evalue": "can only concatenate str (not \"int\") to str",
     "output_type": "error",
     "traceback": [
      "\u001b[0;31m---------------------------------------------------------------------------\u001b[0m",
      "\u001b[0;31mTypeError\u001b[0m                                 Traceback (most recent call last)",
      "Cell \u001b[0;32mIn[26], line 5\u001b[0m\n\u001b[1;32m      1\u001b[0m \u001b[38;5;66;03m##Explain the concept of type casting in Python with examples.\u001b[39;00m\n\u001b[1;32m      2\u001b[0m \n\u001b[1;32m      3\u001b[0m \u001b[38;5;66;03m#TYPECASTING- it automatically converts one data type to another data type.\u001b[39;00m\n\u001b[1;32m      4\u001b[0m \u001b[38;5;66;03m#example\u001b[39;00m\n\u001b[0;32m----> 5\u001b[0m \u001b[38;5;124;43m\"\u001b[39;49m\u001b[38;5;124;43m7\u001b[39;49m\u001b[38;5;124;43m\"\u001b[39;49m\u001b[43m \u001b[49m\u001b[38;5;241;43m+\u001b[39;49m\u001b[43m \u001b[49m\u001b[38;5;241;43m3\u001b[39;49m\u001b[38;5;66;03m#will give error because 7 is string and 3 is integer \u001b[39;00m\n",
      "\u001b[0;31mTypeError\u001b[0m: can only concatenate str (not \"int\") to str"
     ]
    }
   ],
   "source": [
    "##Explain the concept of type casting in Python with examples.\n",
    "\n",
    "#TYPECASTING- it automatically converts one data type to another data type.\n",
    "#example\n",
    "\"7\" + 3#will give error because 7 is string and 3 is integer "
   ]
  },
  {
   "cell_type": "code",
   "execution_count": 21,
   "id": "fee33e5e-0746-416e-893a-a1dbcfcd5aac",
   "metadata": {},
   "outputs": [
    {
     "data": {
      "text/plain": [
       "10"
      ]
     },
     "execution_count": 21,
     "metadata": {},
     "output_type": "execute_result"
    }
   ],
   "source": [
    "#to solve it \n",
    "int(\"7\")+3"
   ]
  },
  {
   "cell_type": "code",
   "execution_count": 25,
   "id": "579103c7-9583-4e57-a048-09cf73e988ee",
   "metadata": {},
   "outputs": [
    {
     "name": "stdout",
     "output_type": "stream",
     "text": [
      "room temp\n"
     ]
    }
   ],
   "source": [
    "## How do conditional statements work in Python? Illustrate with examples.\n",
    "\n",
    "#conditional statement in any language plays a crucial role. through it the code jumps to the particular statment which satisfy it.\n",
    "#conditional statment- if,for,else,elif\n",
    "#examples-\n",
    "temp = 30\n",
    "if temp>25:\n",
    "    print(\"room temp\")"
   ]
  },
  {
   "cell_type": "code",
   "execution_count": 23,
   "id": "44ecdee6-56c8-41a8-a78a-409c6d0b33f7",
   "metadata": {},
   "outputs": [
    {
     "name": "stdout",
     "output_type": "stream",
     "text": [
      "no voting\n"
     ]
    }
   ],
   "source": [
    "age = 17\n",
    "if age >= 18:\n",
    "    print(\"You can vote\")\n",
    "else:\n",
    "    print(\"no voting\")"
   ]
  },
  {
   "cell_type": "code",
   "execution_count": 24,
   "id": "78c97dab-8eb8-468b-85cd-2660d6116196",
   "metadata": {},
   "outputs": [
    {
     "name": "stdout",
     "output_type": "stream",
     "text": [
      "You are senior citizen\n"
     ]
    }
   ],
   "source": [
    "age = 80\n",
    "if age < 18:\n",
    "    print(\"You are minor\")\n",
    "elif 18<age<=65:\n",
    "    print(\"Yo are adult\")\n",
    "else:\n",
    "    print(\"You are senior citizen\")"
   ]
  },
  {
   "cell_type": "code",
   "execution_count": 29,
   "id": "66d5e85f-5b2e-43d9-bff6-76d58f383dbd",
   "metadata": {},
   "outputs": [
    {
     "name": "stdout",
     "output_type": "stream",
     "text": [
      "1\n",
      "2\n",
      "3\n",
      "4\n",
      "5\n",
      "6\n",
      "7\n",
      "8\n",
      "9\n",
      "This will be executed when the while is run successfuly without any break\n"
     ]
    }
   ],
   "source": [
    "## Describe the different types of loops in Python and their use cases with examples.\n",
    "\n",
    "#loop statement -It allows you to execute a block of code repeatedly\n",
    "#example-for while\n",
    "n = 10\n",
    "i = 1\n",
    "while i < n:\n",
    "    print(i)\n",
    "    i = i+1\n",
    "else:\n",
    "    print(\"This will be executed when the while is run successfuly without any break\")"
   ]
  },
  {
   "cell_type": "code",
   "execution_count": 30,
   "id": "37f38253-47fd-4634-9920-8e33736a3819",
   "metadata": {},
   "outputs": [
    {
     "name": "stdout",
     "output_type": "stream",
     "text": [
      "0 1 2 3 4 5 6 7 8 9 "
     ]
    }
   ],
   "source": [
    "for i in range(10):\n",
    "    print(i, end=\" \")"
   ]
  },
  {
   "cell_type": "code",
   "execution_count": null,
   "id": "370554c8-4c06-42a8-a41a-65d6e591b1cb",
   "metadata": {},
   "outputs": [],
   "source": []
  }
 ],
 "metadata": {
  "kernelspec": {
   "display_name": "Python 3 (ipykernel)",
   "language": "python",
   "name": "python3"
  },
  "language_info": {
   "codemirror_mode": {
    "name": "ipython",
    "version": 3
   },
   "file_extension": ".py",
   "mimetype": "text/x-python",
   "name": "python",
   "nbconvert_exporter": "python",
   "pygments_lexer": "ipython3",
   "version": "3.10.8"
  }
 },
 "nbformat": 4,
 "nbformat_minor": 5
}
