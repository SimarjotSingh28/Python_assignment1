{
 "cells": [
  {
   "cell_type": "code",
   "execution_count": 1,
   "id": "1d6445df-081e-4f34-a331-88669152e2a8",
   "metadata": {},
   "outputs": [],
   "source": [
    "#1. What are the key differences between SQL and NoSQL databases\n",
    "\n",
    "#SQL-Tables with rows and columns.Fixed schema (predefined structure)Vertically scalable (upgrading hardware)SQL (Structured Query Language)Efficient for complex queries and transactions\t\n",
    "#No SQL=Document-based, key-value, column-family, or graph-based,Flexible schema (dynamic and adaptable),Horizontally scalable (adding more servers),Varies (e.g., MongoDB uses its own query language)"
   ]
  },
  {
   "cell_type": "code",
   "execution_count": 1,
   "id": "e6691689-0623-4d2a-a50d-343ac91d069f",
   "metadata": {},
   "outputs": [],
   "source": [
    "#2.What makes MongoDB a good choice for modern applications?\n",
    "#MongoDB is built on a scale-out architecture that has become popular with developers of all kinds for developing scalable applications with evolving data schemas.As a document database, MongoDB makes it easy for developers to store structured or unstructured data. It uses a JSON-like format to store documents. This format directly maps to native objects in most modern programming languages, making it a natural choice for developers, as they don’t need to think about normalizing data. MongoDB can also handle high volume and can scale both vertically or horizontally to accommodate large data loads.MongoDB was built for people building internet and business applications who need to evolve quickly and scale elegantly. Companies and development teams of all sizes use MongoDB for a wide variety of reasons."
   ]
  },
  {
   "cell_type": "code",
   "execution_count": 2,
   "id": "668833b7-9781-471f-88f1-5c172f272ebb",
   "metadata": {},
   "outputs": [],
   "source": [
    "#3. Explain the concept of collections in MongoDB?\n",
    "# A collection is a grouping of MongoDB documents. Documents within a collection can have different fields. A collection is the equivalent of a table in a relational database system. A collection exists within a single database."
   ]
  },
  {
   "cell_type": "code",
   "execution_count": 3,
   "id": "1ded38d1-0823-4d01-a785-621b563c89c2",
   "metadata": {},
   "outputs": [],
   "source": [
    "#4. How does MongoDB ensure high availability using replication\n",
    "#With replication, MongoDB achieves high availability. Since data is replicated across multiple nodes, the system can tolerate failures. If one node crashes, another can take over. This architecture allows the system to maintain both availability and data durability"
   ]
  },
  {
   "cell_type": "code",
   "execution_count": 4,
   "id": "b49b9244-4353-4b25-8bc1-bddc577222f7",
   "metadata": {},
   "outputs": [],
   "source": [
    "#5. What are the main benefits of MongoDB Atlas\n",
    "#Easy to Access and Use. MongoDB Atlas offers a cloud-based interface accessible from any device with an internet connection\n",
    "#Cost Efficiency\n",
    "#Security.\n",
    "#Data Visualization Tool and Easy installation and Integration."
   ]
  },
  {
   "cell_type": "code",
   "execution_count": 5,
   "id": "8b36dd81-5a47-4515-b3bb-42fc08614a7e",
   "metadata": {},
   "outputs": [],
   "source": [
    "#6. What is the role of indexes in MongoDB, and how do they improve performance\n",
    "#MongoDB indexes are crucial in optimizing database performance, as they improve the speed of data retrieval operations in a MongoDB database. They create a reference to the location of data within a collection based on the indexed field(s)."
   ]
  },
  {
   "cell_type": "code",
   "execution_count": 6,
   "id": "4d3a4325-201a-4fb6-8ec9-37ad3c116f7a",
   "metadata": {},
   "outputs": [],
   "source": [
    "#7.Describe the stages of the MongoDB aggregation pipeline.\n",
    "#An aggregation pipeline consists of one or more stages that process documents: Each stage performs an operation on the input documents. For example, a stage can filter documents, group documents, and calculate values. The documents that are output from a stage are passed to the next stage."
   ]
  },
  {
   "cell_type": "code",
   "execution_count": 7,
   "id": "6e7c298e-d85f-4eb3-99de-8c598f867556",
   "metadata": {},
   "outputs": [],
   "source": [
    "#8.What is sharding in MongoDB? How does it differ from replication\n",
    "#Replication may help with horizontal scaling of reads if you are OK to read data that potentially isn't the latest. sharding allows for horizontal scaling of data writes by partitioning data across multiple servers using a shard key. It's important to choose a good shard key"
   ]
  },
  {
   "cell_type": "code",
   "execution_count": 9,
   "id": "d1eff710-5016-44c2-8771-715c10ea9003",
   "metadata": {},
   "outputs": [],
   "source": [
    "#9. What is PyMongo, and why is it used\n",
    "#used to connect python with mongodb"
   ]
  },
  {
   "cell_type": "code",
   "execution_count": 11,
   "id": "ef9b8f5c-844c-4b24-bc1c-4dd503998a78",
   "metadata": {},
   "outputs": [],
   "source": [
    "#10.What are the ACID properties in the context of MongoDB transactions\n",
    "#ACID is an acronym that stands for atomicity, consistency, isolation, and durability (ACID). Together, ACID properties ensure that a set of database operations (grouped together in a transaction) leave the database in a valid state even in the event of unexpected errors. Further, ACID transactions provide the level of transactional guarantees that many regulatory agencies require."
   ]
  },
  {
   "cell_type": "code",
   "execution_count": 12,
   "id": "e13febbd-6337-4828-a2f3-a1b677412336",
   "metadata": {},
   "outputs": [],
   "source": [
    "#11. What is the purpose of MongoDB’s explain() function\n",
    "#explain() is a method that you can apply to simple queries or to cursors to investigate the query execution plan. The execution plan is how MongoDB resolves a query."
   ]
  },
  {
   "cell_type": "code",
   "execution_count": 13,
   "id": "94a54aca-e8b0-44e0-a71b-17784d6a3300",
   "metadata": {},
   "outputs": [],
   "source": [
    "#12. How does MongoDB handle schema validation\n",
    "#MongoDB uses a flexible schema model, which means that documents in a collection do not need to have the same fields or data types by default. Once you've established an application schema, you can use schema validation to ensure there are no unintended schema changes or improper data types"
   ]
  },
  {
   "cell_type": "code",
   "execution_count": 14,
   "id": "8718cb62-dc10-404a-9c98-4a4800d9756d",
   "metadata": {},
   "outputs": [],
   "source": [
    "#13.What is the difference between a primary and a secondary node in a replica set\n",
    "#The primary is the only member in the replica set that receives write operations. MongoDB applies write operations on the primary and then records the operations on the primary's oplog. Secondary members replicate this log and apply the operations to their data sets."
   ]
  },
  {
   "cell_type": "code",
   "execution_count": 15,
   "id": "0f3625a4-a8b4-4d3a-aa30-d62974ed5ad5",
   "metadata": {},
   "outputs": [],
   "source": [
    "#14. What security mechanisms does MongoDB provide for data protection\n",
    "#MongoDB lets administrators encrypt data in transit and data at rest in permanent storage and backup repositories. Users can encrypt data at the field level, protecting sensitive information from administrators and other legitimate users while data is used on the server."
   ]
  },
  {
   "cell_type": "code",
   "execution_count": 16,
   "id": "f235867d-3c67-4ffc-b6c6-8a106668ac3b",
   "metadata": {},
   "outputs": [],
   "source": [
    "#15. Explain the concept of embedded documents and when they should be used\n",
    "#Embedded documents are an efficient and clean way to store related data, especially data that's regularly accessed together. In general, when designing schemas for MongoDB, you should prefer embedding by default, and use references and application-side or database-side joins only when they're worthwhile."
   ]
  },
  {
   "cell_type": "code",
   "execution_count": 18,
   "id": "51202c4f-febd-4b27-a20c-30f9f954d388",
   "metadata": {},
   "outputs": [],
   "source": [
    "#16. What is the purpose of MongoDB’s $lookup stage in aggregation\n",
    "#The $lookup stage adds a new array field to each input document. The new array field contains the matching documents from the \"joined\" collection. The $lookup stage passes these reshaped documents to the next stage. Starting in MongoDB 5.1, you can use $lookup with sharded collections."
   ]
  },
  {
   "cell_type": "code",
   "execution_count": 19,
   "id": "a041ffad-db0e-4d74-9bcf-252e12636a17",
   "metadata": {},
   "outputs": [],
   "source": [
    "#17. What are some common use cases for MongoDB\n",
    "#Artificial Intelligence. Streamline building AI-enriched applications.\n",
    "#Edge Computing. Unlock the benefits of edge computing by simplifying data management.\n",
    "#Internet of Things. Analyze and act on data from the physical world.\n",
    "#Mobile.\n",
    "#Payments.\n",
    "#Serverless Development. \n",
    "#Single View.\n",
    "#Personalization."
   ]
  },
  {
   "cell_type": "code",
   "execution_count": 20,
   "id": "f0329d1e-6dac-42a6-9944-eefdf8a3040c",
   "metadata": {},
   "outputs": [],
   "source": [
    "#18.What are the advantages of using MongoDB for horizontal scaling\n",
    "#this approach simplifies scaling at hardware level. All that needs to be done is to add additional machines to the existing pool, and this eliminates the need to analyze the characteristics of the system to be upgraded. This model also reduces downtime."
   ]
  },
  {
   "cell_type": "code",
   "execution_count": 22,
   "id": "cc3731ff-6926-4649-8bea-47eb42b0d86d",
   "metadata": {},
   "outputs": [],
   "source": [
    "#19.How do MongoDB transactions differ from SQL transactions\n",
    "#SQL databases are vertically scalable, while NoSQL databases are horizontally scalable. SQL databases are table-based, while NoSQL databases are document, key-value, graph, or wide-column stores. SQL databases are better for multi-row transactions, while NoSQL is better for unstructured data like documents or JSON."
   ]
  },
  {
   "cell_type": "code",
   "execution_count": 23,
   "id": "436f8919-0f65-4e64-89d7-dd0b7755b3c6",
   "metadata": {},
   "outputs": [],
   "source": [
    "#20. What are the main differences between capped collections and regular collections\n",
    "#Capped collections preserve the order of records by not allowing documents to be deleted or to update them in ways to increase their size, so it can always append to the current end of the collection. This makes insertion simpler and more efficient than with a standard collection."
   ]
  },
  {
   "cell_type": "code",
   "execution_count": 24,
   "id": "08f4e6ef-bfb0-477d-8091-063cf1a638c2",
   "metadata": {},
   "outputs": [],
   "source": [
    "#21. What is the purpose of the $match stage in MongoDB’s aggregation pipeline\n",
    "#A $match stage filters out a document from pipeline results if one of the following conditions applies: The $match query predicate returns a 0 , null , or false value on that document. The $match query predicate uses a field that is missing from that document."
   ]
  },
  {
   "cell_type": "code",
   "execution_count": 26,
   "id": "c8f9e7a6-bd69-447a-8a51-3681ed8b3004",
   "metadata": {},
   "outputs": [],
   "source": [
    "#22. How can you secure access to a MongoDB database\n",
    "#Ensure that MongoDB runs in a trusted network environment and configure firewall or security groups to control inbound and outbound traffic for your MongoDB instances. Disable direct SSH root access. Allow only trusted clients to access the network interfaces and ports on which MongoDB instances are available.\n"
   ]
  },
  {
   "cell_type": "code",
   "execution_count": 27,
   "id": "13aa2180-5aa4-40cc-832c-a3e0b4ccb509",
   "metadata": {},
   "outputs": [],
   "source": [
    "#23.What is MongoDB’s WiredTiger storage engine, and why is it important?\n",
    "#WiredTiger is the default storage engine and is recommended for new deployments. WiredTiger provides a document-level concurrency model, checkpointing, and compression, among other features. In MongoDB Enterprise, WiredTiger also supports Encryption at Rest."
   ]
  },
  {
   "cell_type": "code",
   "execution_count": null,
   "id": "8e300f7d-9fc7-41ef-b465-4451fc4a9494",
   "metadata": {},
   "outputs": [],
   "source": []
  },
  {
   "cell_type": "code",
   "execution_count": null,
   "id": "16d69015-d50f-4ee6-8426-44e92436a5a3",
   "metadata": {},
   "outputs": [],
   "source": []
  },
  {
   "cell_type": "raw",
   "id": "ff54608d-9e5c-4304-9a2a-228c6f0a5d0d",
   "metadata": {},
   "source": [
    "import pandas as pd\n",
    "from pymongo import MongoClient\n",
    "\n",
    "# 1. Load the Superstore dataset into MongoDB\n",
    "def load_data_to_mongo(csv_file, db_name, collection_name):\n",
    "    \n",
    "    df = pd.read_csv(csv_file)\n",
    "    \n",
    "    \n",
    "    client = MongoClient('mongodb://localhost:27017/') \n",
    "    db = client[db_name]\n",
    "    collection = db[collection_name]\n",
    "    \n",
    " \n",
    "    collection.insert_many(df.to_dict('records'))\n",
    "    print(f\"Data inserted into collection '{collection_name}' of database '{db_name}'.\")\n",
    "\n",
    "\n",
    "\n",
    "\n",
    "\n",
    "# 2. Retrieve and print all documents from the Orders collection\n",
    "def retrieve_all_documents(db_name, collection_name):\n",
    "    client = MongoClient('mongodb://localhost:27017/')\n",
    "    db = client[db_name]\n",
    "    collection = db[collection_name]\n",
    "    \n",
    "\n",
    "    documents = collection.find()\n",
    "    for doc in documents:\n",
    "        print(doc)\n",
    "\n",
    "\n",
    "\n",
    "# 3. Count and display the total number of documents in the Orders collection\n",
    "def count_documents(db_name, collection_name):\n",
    "    client = MongoClient('mongodb://localhost:27017/')\n",
    "    db = client[db_name]\n",
    "    collection = db[collection_name]\n",
    "    \n",
    "    count = collection.count_documents({})\n",
    "    print(f\"Total number of documents in '{collection_name}': {count}\")\n",
    "\n",
    "\n",
    "\n",
    "\n",
    "\n",
    "# 4. Write a query to fetch all orders from the \"West\" region\n",
    "def fetch_west_region_orders(db_name, collection_name):\n",
    "    client = MongoClient('mongodb://localhost:27017/')\n",
    "    db = client[db_name]\n",
    "    collection = db[collection_name]\n",
    "    \n",
    " \n",
    "    west_orders = collection.find({\"Region\": \"West\"})\n",
    "    for order in west_orders:\n",
    "\n",
    "        print(order)\n",
    "\n",
    "\n",
    "\n",
    "\n",
    "# 5. Write a query to find orders where Sales is greater than 500\n",
    "def fetch_sales_greater_than_500(db_name, collection_name):\n",
    "    client = MongoClient('mongodb://localhost:27017/')\n",
    "    db = client[db_name]\n",
    "    collection = db[collection_name]\n",
    "    \n",
    "    \n",
    "    orders = collection.find({\"Sales\": {\"$gt\": 500}})\n",
    "    for order in orders:\n",
    "        print(order)\n",
    "\n",
    "\n",
    "\n",
    "\n",
    "\n",
    "# 6. Fetch the top 3 orders with the highest Profit\n",
    "def fetch_top_3_orders_by_profit(db_name, collection_name):\n",
    "    client = MongoClient('mongodb://localhost:27017/')\n",
    "    db = client[db_name]\n",
    "    collection = db[collection_name]\n",
    "    \n",
    "    \n",
    "    \n",
    "    top_orders = collection.find().sort(\"Profit\", -1).limit(3)\n",
    "    for order in top_orders:\n",
    "        print(order)\n",
    "\n",
    "\n",
    "\n",
    "\n",
    "\n",
    "# 7. Update all orders with Ship Mode as \"First Class\" to \"Premium Class\"\n",
    "def update_ship_mode_to_premium(db_name, collection_name):\n",
    "    client = MongoClient('mongodb://localhost:27017/')\n",
    "    db = client[db_name]\n",
    "    collection = db[collection_name]\n",
    "    \n",
    "   \n",
    "    \n",
    "    collection.update_many({\"Ship Mode\": \"First Class\"}, {\"$set\": {\"Ship Mode\": \"Premium Class\"}})\n",
    "    print(\"Updated Ship Mode from 'First Class' to 'Premium Class'.\")\n",
    "\n",
    "\n",
    "\n",
    "\n",
    "\n",
    "# 8. Delete all orders where Sales is less than 50\n",
    "def delete_sales_less_than_50(db_name, collection_name):\n",
    "    client = MongoClient('mongodb://localhost:27017/')\n",
    "    db = client[db_name]\n",
    "    collection = db[collection_name]\n",
    "    \n",
    "    \n",
    "\n",
    "    \n",
    "    collection.delete_many({\"Sales\": {\"$lt\": 50}})\n",
    "    print(\"Deleted all orders where Sales is less than 50.\")\n",
    "\n",
    "\n",
    "\n",
    "\n",
    "\n",
    "# 9. Use aggregation to group orders by Region and calculate total sales per region\n",
    "def aggregate_sales_by_region(db_name, collection_name):\n",
    "    client = MongoClient('mongodb://localhost:27017/')\n",
    "    db = client[db_name]\n",
    "    collection = db[collection_name]\n",
    "    \n",
    "\n",
    "\n",
    "    \n",
    "    pipeline = [\n",
    "        {\"$group\": {\"_id\": \"$Region\", \"total_sales\": {\"$sum\": \"$Sales\"}}}\n",
    "    ]\n",
    "    \n",
    "    result = collection.aggregate(pipeline)\n",
    "    for record in result:\n",
    "        print(record)\n",
    "\n",
    "\n",
    "\n",
    "\n",
    "\n",
    "# 10. Fetch all distinct values for Ship Mode from the collection\n",
    "def fetch_distinct_ship_mode(db_name, collection_name):\n",
    "    client = MongoClient('mongodb://localhost:27017/')\n",
    "    db = client[db_name]\n",
    "    collection = db[collection_name]\n",
    "    \n",
    "    \n",
    "\n",
    "    \n",
    "    distinct_ship_modes = collection.distinct(\"Ship Mode\")\n",
    "    print(f\"Distinct Ship Modes: {distinct_ship_modes}\")\n",
    "\n",
    "\n",
    "\n",
    "\n",
    "# 11. Count the number of orders for each category\n",
    "def count_orders_by_category(db_name, collection_name):\n",
    "    client = MongoClient('mongodb://localhost:27017/')\n",
    "    db = client[db_name]\n",
    "    collection = db[collection_name]\n",
    "    \n",
    "    \n",
    "    \n",
    "    pipeline = [\n",
    "        {\"$group\": {\"_id\": \"$Category\", \"order_count\": {\"$sum\": 1}}}\n",
    "    ]\n",
    "    \n",
    "    result = collection.aggregate(pipeline)\n",
    "    for record in result:\n",
    "        print(record)\n",
    "\n",
    "\n",
    "\n",
    "if __name__ == \"__main__\":\n",
    "    \n",
    "    csv_file = 'Superstore dataset.csv'  \n",
    "    db_name = 'superstore_db'  \n",
    "    collection_name = 'Orders'  \n",
    "    \n",
    "\n",
    "    \n",
    "    # Retrieve all documents\n",
    "    retrieve_all_documents(db_name, collection_name)\n",
    "    \n",
    "    # Count total documents\n",
    "    count_documents(db_name, collection_name)\n",
    "    \n",
    "    # Fetch orders from the West region\n",
    "    fetch_west_region_orders(db_name, collection_name)\n",
    "    \n",
    "    # Fetch orders where Sales > 500\n",
    "    fetch_sales_greater_than_500(db_name, collection_name)\n",
    "    \n",
    "    # Fetch top 3 orders by Profit\n",
    "    fetch_top_3_orders_by_profit(db_name, collection_name)\n",
    "    \n",
    "    # Update Ship Mode\n",
    "    update_ship_mode_to_premium(db_name, collection_name)\n",
    "    \n",
    "    # Delete orders with Sales < 50\n",
    "    delete_sales_less_than_50(db_name, collection_name)\n",
    "    \n",
    "    # Aggregate sales by Region\n",
    "    aggregate_sales_by_region(db_name, collection_name)\n",
    "    \n",
    "    # Fetch distinct Ship Mode\n",
    "    fetch_distinct_ship_mode(db_name, collection_name)\n",
    "    \n",
    "    # Count orders by Category\n",
    "    count_orders_by_category(db_name, collection_name)"
   ]
  }
 ],
 "metadata": {
  "kernelspec": {
   "display_name": "Python 3 (ipykernel)",
   "language": "python",
   "name": "python3"
  },
  "language_info": {
   "codemirror_mode": {
    "name": "ipython",
    "version": 3
   },
   "file_extension": ".py",
   "mimetype": "text/x-python",
   "name": "python",
   "nbconvert_exporter": "python",
   "pygments_lexer": "ipython3",
   "version": "3.12.5"
  }
 },
 "nbformat": 4,
 "nbformat_minor": 5
}
