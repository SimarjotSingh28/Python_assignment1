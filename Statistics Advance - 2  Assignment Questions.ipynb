{
 "cells": [
  {
   "cell_type": "code",
   "execution_count": 1,
   "id": "0999a689-f497-4269-bde0-2923c888b6ef",
   "metadata": {},
   "outputs": [],
   "source": [
    "#Question1: Define the z-statistic and explain its relationship to the standard normal distribution. How is the z-statistic used in hypothesis testing?\n",
    "\n",
    "#A z-test is a statistical test to determine whether two population means are different or to compare one mean to a hypothesized value when the variances are known and the sample size is large.It is used in normal distribution because If the standard deviation of the population is known and the sample size is greater than or equal to 30, the z-test can be used. Regardless of the sample size, if the population standard deviation is unknown, a t-test should be used instead.\n",
    "#By calculating the z-score and mean of a sample, we can determine the level of significance and whether the null hypothesis should be rejected or not. Furthermore, understanding how to interpret and use the z-score and mean enables  to make informed decisions based on the results of statistical analysis."
   ]
  },
  {
   "cell_type": "code",
   "execution_count": 2,
   "id": "4eb6bf84-2efc-490d-8b2a-22bca577d298",
   "metadata": {},
   "outputs": [],
   "source": [
    "#Question2 : What is a p-value, and how is it used in hypothesis testing? What does it mean if the p-value is very small (e.g., 0.01)?\n",
    "\n",
    "#A p-value is a statistical measurement used to validate a hypothesis against observed data.In the P-Value approach to hypothesis testing, a calculated probability is used to decide if there’s evidence to reject the null hypothesis, also known as the conjecture. The conjecture is the initial claim about a data population, while the alternative hypothesis ascertains if the observed population parameter differs from the population parameter value according to the conjecture.The lower the p-value, the greater the statistical significance of the observed difference. "
   ]
  },
  {
   "cell_type": "code",
   "execution_count": 4,
   "id": "8975cbce-be85-4152-8082-ab2065414022",
   "metadata": {},
   "outputs": [],
   "source": [
    "#Question3: Compare and contrast the binomial and Bernoulli distributions.\n",
    "\n",
    "#Bernaulli - A random variable that follows the Bernoulli distribution only has two possibly outcomes, so describing it is easy.It might be flipping a coin and seeing which side comes up. It might be asking a person to try to complete a task and seeing if they do or not. Or it might be placing a plant in certain conditions and seeing whether it survives or dies.All the events have equal probability\n",
    "#binomial-The binomial distribution is what happens when you run multiple independent Bernoulli trials with the same p. The result is no longer which of the two Bernoulli outcomes occurs. The random variable from a binomial distribution measures the number of trials that have the outcome you are focusing on.it is used when the no of event takes place multiple times"
   ]
  },
  {
   "cell_type": "code",
   "execution_count": 5,
   "id": "7d092d9b-5b62-4fac-93d2-c3d7f90d8649",
   "metadata": {},
   "outputs": [],
   "source": [
    "#Question 4: Under what conditions is the binomial distribution used, and how does it relate to the Bernoulli distribution?\n",
    "\n",
    "#Binomial condition is used when the no. of event takes place multiple time. it relates to the bernaulli distribution as the bernauli has two equally prob outcomes and same as in binomial."
   ]
  },
  {
   "cell_type": "code",
   "execution_count": 6,
   "id": "6f90d7d7-4e23-4e1d-9c53-06bf0a531b0a",
   "metadata": {},
   "outputs": [],
   "source": [
    "# Question5: What are the key properties of the Poisson distribution, and when is it appropriate to use this distribution?\n",
    "\n",
    "#The events are independent.The average number of successes in the given period of time alone can occur. No two events can occur at the same time.The Poisson distribution is limited when the number of trials n is indefinitely large.\n",
    "#it is used when the probability of an event occuring is very low but the no. of events is high "
   ]
  },
  {
   "cell_type": "code",
   "execution_count": 7,
   "id": "55609a2d-356d-4d3c-a9ea-2c5731503977",
   "metadata": {},
   "outputs": [],
   "source": [
    "#Question6: Define the terms \"probability distribution\" and \"probability density function\" (PDF). How does a PDF differ from a probability mass function (PMF)?\n",
    "\n",
    "#The Probability Mass Function (PMF) is also called a probability function or frequency function which characterizes the distribution of a discrete random variable.Uses discrete random variables.it includes binomial ,poisson,discrete uniform distribution\n",
    "#probability density function is in a range of continuous random variables Uses continuous random variables  .it includes normal distribution and geometric distribution "
   ]
  },
  {
   "cell_type": "code",
   "execution_count": 9,
   "id": "46f3434f-28a3-474c-9ebf-44d9e46e14a8",
   "metadata": {},
   "outputs": [],
   "source": [
    "#Question7: Explain the Central Limit Theorem (CLT) with example.\n",
    "\n",
    "#clt or central limiting theorem states that it is a way to approximate any form of distribution to normal distribution. the no. of sample should be large than 30\n",
    "#example on the document attached below\n",
    "(X-μ)/σ(root of n)"
   ]
  },
  {
   "cell_type": "code",
   "execution_count": 10,
   "id": "c2e5be82-ec62-45b4-aa8a-61c905c513b3",
   "metadata": {},
   "outputs": [],
   "source": [
    "#Question8: Compare z-scores and t-scores. When should you use a z-score, and when should a t-score be applied instead?\n",
    "\n",
    "#A z-score and a t score are both used in hypothesis testing. to use a t score is when your sample:Has a sample size below 30,Has an unknown population standard deviation.The z-score is calculated using the formula:z = (X-μ)/σσ is the population standard deviation and μ is the population mean."
   ]
  },
  {
   "cell_type": "code",
   "execution_count": 11,
   "id": "c7a69929-315f-44fe-b6ba-e86557db09c6",
   "metadata": {},
   "outputs": [
    {
     "name": "stdout",
     "output_type": "stream",
     "text": [
      "reject\n"
     ]
    }
   ],
   "source": [
    "#Question9: Given a sample mean of 105, a population mean of 100, a standard deviation of 15, and a sample size of 25, calculate the z-score and p-value. Based on a significance level of 0.05, do you reject or fail to reject the null hypothesis? Task: Write Python code to calculate the z-score and p-value for the given data. Objective: Apply the formula for the z-score and interpret the p-value for hypothesis testing.\n",
    "\n",
    "sample_mean=105\n",
    "population_mean=100\n",
    "sd=15\n",
    "size=25\n",
    "alpha=1.64\n",
    "z=(sample_mean-population_mean)/(sd/(size**0.5))\n",
    "if alpha<z:\n",
    "    print(\"reject\")\n",
    "else:\n",
    "    print(\"accept\")"
   ]
  },
  {
   "cell_type": "code",
   "execution_count": 19,
   "id": "d989bc00-eb77-4834-b9bc-186b09a19639",
   "metadata": {},
   "outputs": [
    {
     "data": {
      "image/png": "[encoded data removed]",
      "text/plain": [
       "<Figure size 640x480 with 1 Axes>"
      ]
     },
     "metadata": {},
     "output_type": "display_data"
    }
   ],
   "source": [
    "##Question10: Simulate a binomial distribution with 10 trials and a probability of success of 0.6 using Python. Generate 1,000 samples and plot the distribution. What is the expected mean and variance?Task: Use Python to generate the data, plot the distribution, and calculate the mean and variance.Objective: Understand the properties of a binomial distribution and verify them through simulation.\n",
    "\n",
    "import pandas as pd\n",
    "import numpy as np\n",
    "import matplotlib.pyplot as plt\n",
    "import seaborn as sns\n",
    "\n",
    "import warnings\n",
    "warnings.filterwarnings('ignore')\n",
    "s=np.random.binomial(n=10,p=0.6,size=1000)\n",
    "h=plt.hist(s,density=True)\n",
    "plt.title(\"the binomial distribution\")\n",
    "plt.show()\n",
    "\n"
   ]
  },
  {
   "cell_type": "code",
   "execution_count": 23,
   "id": "f4e77bab-28f2-4ede-852a-329a6a67521d",
   "metadata": {},
   "outputs": [
    {
     "name": "stdout",
     "output_type": "stream",
     "text": [
      "the mean is  6.0\n",
      "the variance is 2.4000000000000004\n"
     ]
    }
   ],
   "source": [
    "n=10\n",
    "p=0.6\n",
    "q=1-p\n",
    "size=1000\n",
    "mean=n*p\n",
    "variance=n*p*q\n",
    "print(\"the mean is \",mean)\n",
    "print(\"the variance is\",variance)\n",
    "\n"
   ]
  },
  {
   "cell_type": "code",
   "execution_count": null,
   "id": "986c8c33-a73d-4869-8493-aaeb5a11bcc2",
   "metadata": {},
   "outputs": [],
   "source": []
  }
 ],
 "metadata": {
  "kernelspec": {
   "display_name": "Python 3 (ipykernel)",
   "language": "python",
   "name": "python3"
  },
  "language_info": {
   "codemirror_mode": {
    "name": "ipython",
    "version": 3
   },
   "file_extension": ".py",
   "mimetype": "text/x-python",
   "name": "python",
   "nbconvert_exporter": "python",
   "pygments_lexer": "ipython3",
   "version": "3.12.5"
  }
 },
 "nbformat": 4,
 "nbformat_minor": 5
}
