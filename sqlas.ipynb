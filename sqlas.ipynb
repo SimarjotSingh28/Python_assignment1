{
 "cells": [
  {
   "cell_type": "code",
   "execution_count": 1,
   "id": "8464d848-cb08-4a09-93f6-beae691b02b9",
   "metadata": {},
   "outputs": [],
   "source": [
    "#2. Explain the purpose of constraints and how they help maintain data integrity in a database. Provide examples of common types of constraints.\n",
    "\n",
    "#Constraints are the protocols that a table's data columns must follow. These are used to restrict the types of information that can be entered into a table.  This means that the data in the database is accurate and reliable.\n",
    "#The NOT NULL constraint prevents a column from having a NULL value.When no value is defined for a column, the DEFAULT Constraint provides a default value.A UNIQUE Constraint ensures that any value in a column is unique.Each row/record in a database table is uniquely identified by the PRIMARY Key.A FOREIGN KEY recognizes a row/record in any database table uniquely."
   ]
  },
  {
   "cell_type": "code",
   "execution_count": 2,
   "id": "7ddd30d7-82a7-489e-9116-663f62a54081",
   "metadata": {},
   "outputs": [],
   "source": [
    "# 3.Why would you apply the NOT NULL constraint to a column? Can a primary key contain NULL values? Justify your answer.\n",
    "\n",
    "#suppose a university is managing the student records, in this student records the rollno. of  a student cannot be null so that is why we apply NOT NULL contraint to a column.no primary key donot contain any null value"
   ]
  },
  {
   "cell_type": "code",
   "execution_count": 3,
   "id": "4fe2133a-3bd4-477c-bdf3-d0483959aa9a",
   "metadata": {},
   "outputs": [],
   "source": [
    "# 4. Explain the steps and SQL commands used to add or remove constraints on an existing table. Provide an example for both adding and removing a constraint.\n",
    "\n",
    "#ALTER TABLE table_name DROP INDEX column_name\n",
    "#ALTER TABLE table_name ADD CONSTRAINT PRIMARY KEY (col1)\n"
   ]
  },
  {
   "cell_type": "code",
   "execution_count": 4,
   "id": "8aa6c5cd-7a2d-47bb-a54a-357338408b2d",
   "metadata": {},
   "outputs": [],
   "source": [
    "# 5. Explain the consequences of attempting to insert, update, or delete data in a way that violates constraints. Provide an example of an error message that might occur when violating a constraint.\n",
    "\n",
    "#Domain constraint gets violated only when a given value to the attribute does not appear in the corresponding domain or in case it is not of the appropriate datatype.\n",
    "#On inserting NULL values to any part of the primary key of a new tuple in the relation can cause violation of the Entity integrity constraint."
   ]
  },
  {
   "cell_type": "code",
   "execution_count": null,
   "id": "72d8048e-f5eb-4934-b86f-fc01b41d9824",
   "metadata": {},
   "outputs": [],
   "source": [
    "\n",
    "\n",
    "\n",
    "\n",
    "##The films column contains multiple values (a list of film titles) for each actor, which violates 1NF.\n",
    "#normalization\n",
    "#Remove the multi-valued films column.reate a separate relationship table (if not already present) that links each actor to the films they have appeared in.\n",
    "\n",
    "#Since price_each depends on only part of the composite primary key (item_id), the order_item table violates 2NF due to a partial dependency.\n",
    "# A table that contains information specific to the item (i.e., price_each).\n",
    "#A table that relates orders and items (i.e., order_id, item_id, and quantity).\n",
    "#Step 1: Create a new item table to store item details.\n",
    "#This table will store the item_id and the price_each (as it depends only on item_id).\n",
    "#Step 2: Modify the order_item table to store only relevant order-item relationships.\n",
    "#This table will store order_id, item_id, and quantity (since quantity depends on both order_id and item_id)."
   ]
  }
 ],
 "metadata": {
  "kernelspec": {
   "display_name": "Python 3 (ipykernel)",
   "language": "python",
   "name": "python3"
  },
  "language_info": {
   "codemirror_mode": {
    "name": "ipython",
    "version": 3
   },
   "file_extension": ".py",
   "mimetype": "text/x-python",
   "name": "python",
   "nbconvert_exporter": "python",
   "pygments_lexer": "ipython3",
   "version": "3.12.5"
  }
 },
 "nbformat": 4,
 "nbformat_minor": 5
}
