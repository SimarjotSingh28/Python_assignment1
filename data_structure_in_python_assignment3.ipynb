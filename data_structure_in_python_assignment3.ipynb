{
 "cells": [
  {
   "cell_type": "code",
   "execution_count": 44,
   "id": "cf278b56-1754-4e1f-9422-b5c1afecbd2b",
   "metadata": {},
   "outputs": [
    {
     "name": "stdout",
     "output_type": "stream",
     "text": [
      "olleH\n"
     ]
    }
   ],
   "source": [
    "## Write a code to reverse a string\n",
    "\n",
    "str1 = \"Hello\"\n",
    "print(str1[::-1])"
   ]
  },
  {
   "cell_type": "code",
   "execution_count": 45,
   "id": "1358b71d-882d-4ede-89ed-63d61f9efd81",
   "metadata": {},
   "outputs": [
    {
     "name": "stdout",
     "output_type": "stream",
     "text": [
      "1\n",
      "2\n"
     ]
    }
   ],
   "source": [
    "## Write a code to count the number of vowels in a string\n",
    "\n",
    "str2=\"hello\"\n",
    "count=0\n",
    "for i in str2:\n",
    "    if(i==\"a\" or i==\"e\" or i==\"i\"or  i==\"o\" or i==\"u\"):\n",
    "        count=count+1\n",
    "        print(count)"
   ]
  },
  {
   "cell_type": "code",
   "execution_count": 11,
   "id": "d580e6fc-ac0b-4fe4-9746-d2313627bbcb",
   "metadata": {},
   "outputs": [
    {
     "name": "stdout",
     "output_type": "stream",
     "text": [
      "the string is palindrom\n"
     ]
    }
   ],
   "source": [
    "## Write a code to check if a given string is a palindrome or not\n",
    "\n",
    "str3=\"madam\"\n",
    "if(str3==str3[::-1]):\n",
    "    print(\"the string is palindrom\")\n",
    "else:\n",
    "    print(\"it is not a palindrom\")"
   ]
  },
  {
   "cell_type": "code",
   "execution_count": 15,
   "id": "0eef9682-30df-4588-b472-05a97961b50c",
   "metadata": {},
   "outputs": [
    {
     "name": "stdout",
     "output_type": "stream",
     "text": [
      "the strings are in anagrams\n"
     ]
    }
   ],
   "source": [
    "## Write a code to check if two given strings are anagrams of each other\n",
    "\n",
    "str4=\"care\"\n",
    "str5=\"race\"\n",
    "if(sorted(str4)==sorted(str5)):\n",
    "    print(\"the strings are in anagrams\")\n",
    "else:\n",
    "    print(\"the strings are not in anagrams\")"
   ]
  },
  {
   "cell_type": "code",
   "execution_count": 24,
   "id": "26045568-9955-4514-b060-d56628360043",
   "metadata": {},
   "outputs": [
    {
     "data": {
      "text/plain": [
       "True"
      ]
     },
     "execution_count": 24,
     "metadata": {},
     "output_type": "execute_result"
    }
   ],
   "source": [
    "## Write a code to find all occurrences of a given substring within another string.\n",
    "\n",
    "str6=\"pwskills teaches data science\"\n",
    "\n",
    "\"teaches\" in str6\n"
   ]
  },
  {
   "cell_type": "code",
   "execution_count": 35,
   "id": "5bac7125-910b-4e25-b93e-1c951d181dee",
   "metadata": {},
   "outputs": [
    {
     "name": "stdout",
     "output_type": "stream",
     "text": [
      "string has all unique character\n",
      "string has all unique character\n",
      "string has all unique character\n",
      "string has all unique character\n",
      "string has all unique character\n",
      "string has all unique character\n",
      "string has all unique character\n",
      "string has all unique character\n",
      "string has all unique character\n",
      "string has all unique character\n",
      "string has all unique character\n",
      "string has all unique character\n",
      "string has all unique character\n",
      "string has all unique character\n",
      "string has all unique character\n"
     ]
    }
   ],
   "source": [
    "## Write a code to determine if a string has all unique characters.\n",
    "str7=\"nmjklh\"\n",
    "for i in range(len(str7)):\n",
    "    for j in range(i + 1,len(str7)): \n",
    "        if(str7[i] == str7[j]):\n",
    "            print(\"string has no unique character\")\n",
    "        else:\n",
    "             print(\"string has all unique character\")\n"
   ]
  },
  {
   "cell_type": "code",
   "execution_count": 42,
   "id": "32d6bcd0-b71c-4ee5-a76e-750f3d41e9f5",
   "metadata": {},
   "outputs": [
    {
     "data": {
      "text/plain": [
       "'hello world'"
      ]
     },
     "execution_count": 42,
     "metadata": {},
     "output_type": "execute_result"
    }
   ],
   "source": [
    "## Write a code to convert a given string to uppercase or lowercase\n",
    "\n",
    "str10=\"hello world\"\n",
    "str10.lower()"
   ]
  },
  {
   "cell_type": "code",
   "execution_count": 43,
   "id": "45cd6d2d-7572-45e6-812d-fe55a28fd781",
   "metadata": {},
   "outputs": [
    {
     "data": {
      "text/plain": [
       "'HELLO WORLD'"
      ]
     },
     "execution_count": 43,
     "metadata": {},
     "output_type": "execute_result"
    }
   ],
   "source": [
    "str10.upper()\n"
   ]
  },
  {
   "cell_type": "code",
   "execution_count": 46,
   "id": "4c8a9ade-3e01-4ccd-a166-4235632b897c",
   "metadata": {},
   "outputs": [
    {
     "name": "stdout",
     "output_type": "stream",
     "text": [
      "1\n",
      "2\n",
      "3\n",
      "4\n",
      "5\n",
      "6\n",
      "7\n",
      "8\n"
     ]
    }
   ],
   "source": [
    "## Write a code to count the number of words in a string\n",
    "\n",
    "str11=\"pwskills\"\n",
    "count=0\n",
    "for i in str11:\n",
    "    count=count+1\n",
    "    print(count)"
   ]
  },
  {
   "cell_type": "code",
   "execution_count": 49,
   "id": "05580711-60f5-4ab9-8a4f-298d4fae4b61",
   "metadata": {},
   "outputs": [
    {
     "data": {
      "text/plain": [
       "'pw skills'"
      ]
     },
     "execution_count": 49,
     "metadata": {},
     "output_type": "execute_result"
    }
   ],
   "source": [
    "## Write a code to concatenate two strings without using the + operator.\n",
    "\n",
    "str11=\"pw\"\n",
    "str12=\"skills\"\n",
    "f\"{str11} {str12}\""
   ]
  },
  {
   "cell_type": "code",
   "execution_count": 13,
   "id": "64680b6b-c12e-4c11-bb6c-d5326211f2b0",
   "metadata": {},
   "outputs": [
    {
     "data": {
      "text/plain": [
       "[1, 2, 4, 4, 5]"
      ]
     },
     "execution_count": 13,
     "metadata": {},
     "output_type": "execute_result"
    }
   ],
   "source": [
    "## Write a code to remove all occurrences of a specific element from a list.\n",
    "\n",
    "lis1=[1,2,3,4,3,4,5]\n",
    "liscount=lis1.count(3)\n",
    "for i in range(liscount):\n",
    "    lis1.remove(3)\n",
    "lis1"
   ]
  },
  {
   "cell_type": "code",
   "execution_count": 19,
   "id": "7e2b8ac7-3884-4bc8-a359-9f66e77d5c56",
   "metadata": {},
   "outputs": [
    {
     "name": "stdout",
     "output_type": "stream",
     "text": [
      "the secont largest number in list is  9\n"
     ]
    }
   ],
   "source": [
    "##  Implement a code to find the second largest number in a given list of integers.\n",
    "\n",
    "lis4=[5,2,9,0,1,5,6,10]\n",
    "lis5=sorted(lis4)\n",
    "lis5\n",
    "print(\"the secont largest number in list is \",lis5[-2])"
   ]
  },
  {
   "cell_type": "code",
   "execution_count": 26,
   "id": "0223e4b6-6832-4449-939c-ac847d9119ab",
   "metadata": {},
   "outputs": [
    {
     "name": "stdout",
     "output_type": "stream",
     "text": [
      "{1: 4, 3: 4, 2: 5, 6: 2, 5: 1, 4: 3}\n"
     ]
    }
   ],
   "source": [
    "##  Create a code to count the occurrences of each element in a list and return a dictionary with elements as keys and their counts as values\n",
    "\n",
    "def Count(li):\n",
    "    freq = {}\n",
    "    for item in li:\n",
    "        if (item in freq):\n",
    "            freq[item] += 1\n",
    "        else:\n",
    "            freq[item] = 1\n",
    "    print(freq) \n",
    "li =[1, 1, 3, 2, 6, 5, 3, 1, 3, 3, 1, 4, 6, 4, 4, 2, 2, 2, 2]\n",
    "CountFreq(li)"
   ]
  },
  {
   "cell_type": "code",
   "execution_count": 27,
   "id": "d1927f7d-e1f5-4ebb-9f12-bee6bf8b14f1",
   "metadata": {},
   "outputs": [
    {
     "data": {
      "text/plain": [
       "[8, 7, 6, 5, 4, 3]"
      ]
     },
     "execution_count": 27,
     "metadata": {},
     "output_type": "execute_result"
    }
   ],
   "source": [
    "## Write a code to reverse a list in-place without using any built-in reverse functions\n",
    "\n",
    "lis15=[3,4,5,6,7,8]\n",
    "lis15[::-1]"
   ]
  },
  {
   "cell_type": "code",
   "execution_count": 1,
   "id": "e7062d4c-2dc6-4d92-bb96-733c1ad46e6c",
   "metadata": {},
   "outputs": [
    {
     "ename": "SyntaxError",
     "evalue": "incomplete input (2405678295.py, line 8)",
     "output_type": "error",
     "traceback": [
      "\u001b[0;36m  Cell \u001b[0;32mIn[1], line 8\u001b[0;36m\u001b[0m\n\u001b[0;31m    \u001b[0m\n\u001b[0m    ^\u001b[0m\n\u001b[0;31mSyntaxError\u001b[0m\u001b[0;31m:\u001b[0m incomplete input\n"
     ]
    }
   ],
   "source": [
    "##Implement a code to find and remove duplicates from a list while preserving the original order of elements\n",
    "\n",
    "lis16=[1,2,3,3,4,6,3,9]\n",
    "\n",
    "for i in lis16:\n",
    "    if(items in lis16):\n",
    "        \n",
    "\n"
   ]
  },
  {
   "cell_type": "code",
   "execution_count": 16,
   "id": "5bb53a1e-ecf1-40c6-9925-f2837f68ae8f",
   "metadata": {},
   "outputs": [
    {
     "name": "stdout",
     "output_type": "stream",
     "text": [
      "the given list is sorted in descending order\n"
     ]
    }
   ],
   "source": [
    "## Create a code to check if a given list is sorted (either in ascending or descending order) or not\n",
    "\n",
    "lis17=[7,6,5,4,3,2]\n",
    "lis18=sorted(lis17)\n",
    "lis19=lis18[::-1]\n",
    "if(lis17==lis18):\n",
    "    print(\"the given list is sorted in ascending order\")\n",
    "elif(lis17==lis19):\n",
    "    print(\"the given list is sorted in descending order\")\n",
    "else:\n",
    "    print(\"not sorted\")"
   ]
  },
  {
   "cell_type": "code",
   "execution_count": 18,
   "id": "23c16963-cc47-424b-b7c1-3d3fbb319beb",
   "metadata": {},
   "outputs": [
    {
     "data": {
      "text/plain": [
       "[2, 3, 5, 5, 10, 17, 34, 72, 74]"
      ]
     },
     "execution_count": 18,
     "metadata": {},
     "output_type": "execute_result"
    }
   ],
   "source": [
    "## Write a code to merge two sorted lists into a single sorted list\n",
    "\n",
    "lis20=[2,5,3,17,5]\n",
    "lis21=[10,74,34,72]\n",
    "sorted(sorted(lis20)+sorted(lis21))"
   ]
  },
  {
   "cell_type": "code",
   "execution_count": 27,
   "id": "db6442ff-21fa-4df6-ad73-bf408684cfd3",
   "metadata": {},
   "outputs": [
    {
     "data": {
      "text/plain": [
       "[3, 1, 3]"
      ]
     },
     "execution_count": 27,
     "metadata": {},
     "output_type": "execute_result"
    }
   ],
   "source": [
    "##  Implement a code to find the intersection of two given lists\n",
    "\n",
    "lis22=[56,3,8,1,3]\n",
    "lis23=[3,25,46,1]\n",
    "lis24=[value for value in lis22 if value in lis23]\n",
    "lis24\n"
   ]
  },
  {
   "cell_type": "code",
   "execution_count": 30,
   "id": "e5eb945f-7edc-4d8a-a0d0-dd4152300d72",
   "metadata": {},
   "outputs": [
    {
     "data": {
      "text/plain": [
       "[1, 2, 3, 4, 5, 6, 8, 87]"
      ]
     },
     "execution_count": 30,
     "metadata": {},
     "output_type": "execute_result"
    }
   ],
   "source": [
    "## Create a code to find the union of two lists without duplicates\n",
    "\n",
    "lis25=[1,2,6,8,4,3]\n",
    "lis26=[2,87,5,4,6]\n",
    "\n",
    "set1=set(lis25);\n",
    "set2=set(lis26);\n",
    "\n",
    "list(set1.union(set2))"
   ]
  },
  {
   "cell_type": "code",
   "execution_count": 40,
   "id": "b81e4192-2b7e-4210-a318-047a8d2a3189",
   "metadata": {},
   "outputs": [
    {
     "data": {
      "text/plain": [
       "[3, 1, 1, 4, 2]"
      ]
     },
     "execution_count": 40,
     "metadata": {},
     "output_type": "execute_result"
    }
   ],
   "source": [
    "##  Write a code to shuffle a given list randomly without using any built-in shuffle functions\n",
    "\n",
    "import random;\n",
    "lis27=[4,2,7,9,3]\n",
    "newlis=[]\n",
    "for i in lis27:\n",
    "    i=random.randrange(len(lis27))\n",
    "    newlis.append(i)\n",
    "    \n",
    "newlis"
   ]
  },
  {
   "cell_type": "code",
   "execution_count": 62,
   "id": "daf69842-8abb-4711-931f-b03de13cbdca",
   "metadata": {},
   "outputs": [
    {
     "name": "stdin",
     "output_type": "stream",
     "text": [
      "enter the elements 1456\n",
      "enter the elements 6789\n"
     ]
    },
    {
     "name": "stdout",
     "output_type": "stream",
     "text": [
      "['6']\n"
     ]
    }
   ],
   "source": [
    "##  Write a code that takes two tuples as input and returns a new tuple containing elements that are common to both input tuples\n",
    "\n",
    "tup1=tuple(input(\"enter the elements\"))\n",
    "tup2=tuple(input(\"enter the elements\"))\n",
    "i=0\n",
    "for i in tup1:\n",
    "    for j in tup2:\n",
    "        if(i==j):\n",
    "            print([i])\n",
    "    \n",
    "    \n"
   ]
  },
  {
   "cell_type": "code",
   "execution_count": null,
   "id": "e57c77ee-2836-4dc0-aa8c-a3168152d0ec",
   "metadata": {},
   "outputs": [],
   "source": [
    "#Create a code that prompts the user to enter two sets of integers separated by commas. Then, print the intersection of these two sets\n",
    "\n",
    "print(\"hello\")\n",
    "s5={0}\n",
    "for i in range(5):\n",
    "    i=(input(\"print element\"))\n",
    "    s5.add(i)"
   ]
  },
  {
   "cell_type": "code",
   "execution_count": null,
   "id": "44e37370-687f-45db-b58c-c15c9822a803",
   "metadata": {},
   "outputs": [],
   "source": []
  }
 ],
 "metadata": {
  "kernelspec": {
   "display_name": "Python 3 (ipykernel)",
   "language": "python",
   "name": "python3"
  },
  "language_info": {
   "codemirror_mode": {
    "name": "ipython",
    "version": 3
   },
   "file_extension": ".py",
   "mimetype": "text/x-python",
   "name": "python",
   "nbconvert_exporter": "python",
   "pygments_lexer": "ipython3",
   "version": "3.10.8"
  }
 },
 "nbformat": 4,
 "nbformat_minor": 5
}
