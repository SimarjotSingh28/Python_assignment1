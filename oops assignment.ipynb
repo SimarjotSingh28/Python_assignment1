{
 "cells": [
  {
   "cell_type": "code",
   "execution_count": 1,
   "id": "abb874f8-5c03-4a50-852b-3a6fcc1d041a",
   "metadata": {},
   "outputs": [],
   "source": [
    "##1. What are the five key concepts of Object-Oriented Programming (OOP)?\n",
    "\n",
    "# The five  OOP concepts include abstraction, encapsulation, inheritance and polymorphism,class,objects."
   ]
  },
  {
   "cell_type": "code",
   "execution_count": 29,
   "id": "a97dca45-a3dd-46d9-9745-84f4fdfe301b",
   "metadata": {},
   "outputs": [],
   "source": [
    "## 2. Write a Python class for a `Car` with attributes for `make`, `model`, and `year`. Include a method to display the car's information.\n",
    "\n",
    "class Car:\n",
    "    def __init__(self,name,make,model,year):\n",
    "        self.name=name\n",
    "        self.make=make\n",
    "        self.model=model\n",
    "        self.year=year\n",
    "\n",
    "    def show(self):\n",
    "        print(\"this car \",self.name ,\"\\nmake=\",self.make,\"\\nmodel=\",self.model,\"\\nyear=\",self.year)\n",
    "        "
   ]
  },
  {
   "cell_type": "code",
   "execution_count": 32,
   "id": "ca2430e6-e708-49ba-9dcd-2c5d97135caa",
   "metadata": {},
   "outputs": [],
   "source": [
    "c1=Car('Mercedes','Germany','G-63','2023')"
   ]
  },
  {
   "cell_type": "code",
   "execution_count": 33,
   "id": "26a00666-5ba0-4f88-9118-0fe1e1973c9d",
   "metadata": {},
   "outputs": [
    {
     "name": "stdout",
     "output_type": "stream",
     "text": [
      "this car  Mercedes \n",
      "make= Germany \n",
      "model= G-63 \n",
      "year= 2023\n"
     ]
    }
   ],
   "source": [
    "c1.show()"
   ]
  },
  {
   "cell_type": "code",
   "execution_count": 35,
   "id": "7d1302aa-940f-42f1-b5ce-33dd3e081227",
   "metadata": {},
   "outputs": [],
   "source": [
    "## 3. Explain the difference between instance methods and class methods. Provide an example of each\n",
    "\n",
    "# instance methods-When creating an instance method, the first parameter is always self. You can name it anything you want, but the meaning will always be the same, and you should use self since it's the naming convention. self is (usually) passed hiddenly when calling an instance method; it represents the instance calling the method.\n",
    "class Car:\n",
    "    def __init__(self,name,make,model,year):\n",
    "        self.name=name\n",
    "        self.make=make\n",
    "        self.model=model\n",
    "        self.year=year\n",
    "\n",
    "    def show(self):\n",
    "        print(\"this car \",self.name ,\"\\nmake=\",self.make,\"\\nmodel=\",self.model,\"\\nyear=\",self.year)\n",
    "#class method-The idea of a class method is very similar to an instance method, only difference being that instead of passing the instance hiddenly as a first parameter, we're now passing the class itself as a first parameter.\n",
    "class Student:\n",
    "    def __init__(self, name):\n",
    "        self.name = name \n",
    "    \n",
    "    @classmethod \n",
    "    def student_details(cls, name): \n",
    "        return cls(name)"
   ]
  },
  {
   "cell_type": "code",
   "execution_count": 39,
   "id": "bc2a11b5-f347-4b36-9238-05ea5fca0b56",
   "metadata": {},
   "outputs": [],
   "source": [
    "##  4. How does Python implement method overloading? Give an example.\n",
    "\n",
    "#Two or more methods have the same name but different numbers of parameters or different types of parameters, or both. These methods are called overloaded methods and this is called method overloading. \n",
    "\n",
    "class Student:\n",
    "    def student(self):\n",
    "        print(\"Wecome to pwskills class\")\n",
    "    def student(self, name = \"\"):\n",
    "        print(\"Wecome to pwskills class\", name)\n",
    "    def student(self, name = \"\", course = \"\"):\n",
    "        print(\"Wecome to pwskills class\", name, course)"
   ]
  },
  {
   "cell_type": "code",
   "execution_count": 37,
   "id": "963db768-8657-4ea7-86a6-e85f93ba52b5",
   "metadata": {},
   "outputs": [],
   "source": [
    "## 5. What are the three types of access modifiers in Python? How are they denoted?\n",
    "\n",
    "# three types of access modifiers in python are -\n",
    "#Public - using simple like self.rollno\n",
    "#Protected-within the class and its subclass, protected member can be access, (_) \n",
    "#Private - denoted by self.__rollno = rollno"
   ]
  },
  {
   "cell_type": "code",
   "execution_count": 40,
   "id": "137ee1ee-3e3a-4d42-8096-fa2fb1a8a0c2",
   "metadata": {},
   "outputs": [],
   "source": [
    "## 6. Describe the five types of inheritance in Python. Provide a simple example of multiple inheritance.\n",
    "\n",
    "#Single inheritance enables a derived class to inherit properties from a single parent class, thus enabling code reusability and the addition of new features to existing code.\n",
    "#When a class can be derived from more than one base class this type of inheritance is called multiple inheritances. In multiple inheritances, all the features of the base classes are inherited into the derived class. \n",
    "#In multilevel inheritance, features of the base class and the derived class are further inherited into the new derived class. This is similar to a relationship representing a child and a grandfather. \n",
    "#When more than one derived class are created from a single base this type of inheritance is called hierarchical inheritance. In this program, we have a parent (base) class and two child (derived) classes.\n",
    "#Inheritance consisting of multiple types of inheritance is called hybrid inheritance.\n",
    "\n",
    "#example of multiple inheritance is \n",
    "class Vehicle:\n",
    "    def vehicle_info(self):\n",
    "        print(\"Inside vehicle class\")\n",
    "class Car(Vehicle):\n",
    "    def car_info(self):\n",
    "        print(\"Inside the car class\")\n",
    "class SportsCar(Car):\n",
    "    def sports_car_info(self):\n",
    "        print(\"Inside sports car\")"
   ]
  },
  {
   "cell_type": "code",
   "execution_count": 42,
   "id": "2c6a961b-b116-42e5-b36d-a61f097dd411",
   "metadata": {},
   "outputs": [],
   "source": [
    "##  7. What is the Method Resolution Order (MRO) in Python? How can you retrieve it programmatically?\n",
    "\n",
    "# Method Resolution Order(MRO) it denotes the way a programming language resolves a method or attribute. Python supports classes inheriting from other classes.\n"
   ]
  },
  {
   "cell_type": "code",
   "execution_count": 45,
   "id": "6f91a6d2-6982-40ae-b8aa-a1a4fcf47199",
   "metadata": {},
   "outputs": [],
   "source": [
    "## 8. Create an abstract base class `Shape` with an abstract method `area()`. Then create two subclasses `Circle` and `Rectangle` that implement the `area()` method.\n",
    "\n",
    "import abc\n",
    "class Shape:\n",
    "    @abc.abstractmethod\n",
    "    def area(self):\n",
    "        pass\n",
    "\n",
    "class Circle(Shape):\n",
    "    def area(self,r):\n",
    "        print(\"Circles area is= pie * r^2=\",3.14*r*r)\n",
    "class Rectangle(Shape):\n",
    "    def area(self,l,b):\n",
    "        print(\"Rectangle area is l*b=\",l*b)"
   ]
  },
  {
   "cell_type": "code",
   "execution_count": 46,
   "id": "61e32194-b737-464e-95ff-a07a94e27745",
   "metadata": {},
   "outputs": [],
   "source": [
    "c1=Circle()\n"
   ]
  },
  {
   "cell_type": "code",
   "execution_count": 47,
   "id": "dac1689b-d0b5-49ee-97b1-97612aff8ea9",
   "metadata": {},
   "outputs": [
    {
     "name": "stdout",
     "output_type": "stream",
     "text": [
      "Circles area is= pie * r^2= 12.56\n"
     ]
    }
   ],
   "source": [
    "c1.area(2)"
   ]
  },
  {
   "cell_type": "code",
   "execution_count": 49,
   "id": "9b2f202d-8f7d-493a-8943-d0de60387857",
   "metadata": {},
   "outputs": [
    {
     "name": "stdout",
     "output_type": "stream",
     "text": [
      "Rectangle area is l*b= 120\n"
     ]
    }
   ],
   "source": [
    "r1=Rectangle()\n",
    "r1.area(12,10)"
   ]
  },
  {
   "cell_type": "code",
   "execution_count": 51,
   "id": "8c821ca9-8d24-4e36-b320-9b75fe9f347b",
   "metadata": {},
   "outputs": [],
   "source": [
    "##  9. Demonstrate polymorphism by creating a function that can work with different shape objects to calculate and print their areasclass Circle(Shape):\n",
    "\n",
    "\n",
    "class Circle(Shape):\n",
    "    def area(self,r):\n",
    "        print(\"Circles area is= pie * r^2=\",3.14*r*r)\n",
    "class Rectangle(Shape):\n",
    "    def area(self,l,b):\n",
    "        print(\"Rectangle area is l*b=\",l*b)"
   ]
  },
  {
   "cell_type": "code",
   "execution_count": 54,
   "id": "12c08b21-6e46-45f1-847a-bad663815ed8",
   "metadata": {},
   "outputs": [],
   "source": [
    "##  10. Implement encapsulation in a `BankAccount` class with private attributes for `balance` and `account_number`. Include methods for deposit, withdrawal, and balance inquiry.\n",
    "\n",
    "class Customer:\n",
    "    def __init__(self,name,balance,account_no):\n",
    "        self.name=name\n",
    "        self.__balance=balance\n",
    "        self.__account_no=account_no\n",
    "\n",
    "    def deposit(self,amount):\n",
    "        self.__balance=self.__balance+amount\n",
    "\n",
    "    def withdraw(self,amount):\n",
    "        self.__balance=self.__balance-amount\n",
    "\n",
    "    def balance_inquiry(self):\n",
    "        print(\"the name of person is: \",self.name,\"\\n the balance is: \",self.__balance,\"\\n the account number is: \",self.__account_no)\n",
    "        \n",
    "    "
   ]
  },
  {
   "cell_type": "code",
   "execution_count": 56,
   "id": "69dcf237-00f6-4c10-9c34-3a557548c5e3",
   "metadata": {},
   "outputs": [],
   "source": [
    "c1=Customer(\"Ram\",300000,12345678)"
   ]
  },
  {
   "cell_type": "code",
   "execution_count": 58,
   "id": "c9acd574-3c61-4f8d-9d9b-4529772cdec6",
   "metadata": {},
   "outputs": [],
   "source": [
    "c1.deposit(20000)"
   ]
  },
  {
   "cell_type": "code",
   "execution_count": 60,
   "id": "03547599-2dbe-4780-89ae-122864956f7d",
   "metadata": {},
   "outputs": [],
   "source": [
    "c1.withdraw(5000)"
   ]
  },
  {
   "cell_type": "code",
   "execution_count": 61,
   "id": "d071f5f5-9d11-4ae0-883f-b41de9113d26",
   "metadata": {},
   "outputs": [
    {
     "name": "stdout",
     "output_type": "stream",
     "text": [
      "the name of person is:  Ram \n",
      " the balance is:  315000 \n",
      " the account number is:  12345678\n"
     ]
    }
   ],
   "source": [
    "c1.balance_inquiry()"
   ]
  },
  {
   "cell_type": "code",
   "execution_count": 1,
   "id": "e2ef77ce-f398-48bb-95be-e52bf5fdd399",
   "metadata": {},
   "outputs": [
    {
     "data": {
      "text/plain": [
       "8"
      ]
     },
     "execution_count": 1,
     "metadata": {},
     "output_type": "execute_result"
    }
   ],
   "source": [
    "## 11. Write a class that overrides the `__str__` and `__add__` magic methods. What will these methods allow you to do?\n",
    "\n",
    "# These  are the methods defined by built-in classess in Python. \n",
    "a = 3\n",
    "b = 5\n",
    "a.__add__(b)"
   ]
  },
  {
   "cell_type": "code",
   "execution_count": 2,
   "id": "496b8175-20d7-4e3b-ab1b-3239040a8de6",
   "metadata": {},
   "outputs": [],
   "source": [
    "class Student:\n",
    "    def __init__(self):\n",
    "        self.phone = 999999999\n",
    "    def __str__(self): \n",
    "        return \"This method overloads the print statement of object\""
   ]
  },
  {
   "cell_type": "code",
   "execution_count": 7,
   "id": "ffd26e2f-d889-47f5-a2a9-45f02a7cf6c3",
   "metadata": {},
   "outputs": [],
   "source": [
    "##  12. Create a decorator that measures and prints the execution time of a function.\n",
    "\n",
    "import time\n",
    "def timer_decorator(func):\n",
    "    def timer():\n",
    "        start = time.time()\n",
    "        func()\n",
    "        end = time.time()\n",
    "        print(\"The time for executing the code\", end-start)\n",
    "    return timer\n",
    "\n",
    "@timer_decorator\n",
    "def func_test():\n",
    "    print(1100000*1000)"
   ]
  },
  {
   "cell_type": "code",
   "execution_count": 8,
   "id": "849ae170-2ba0-4ec8-b5e4-62bc6f836e1b",
   "metadata": {},
   "outputs": [
    {
     "name": "stdout",
     "output_type": "stream",
     "text": [
      "1100000000\n",
      "The time for executing the code 0.0\n"
     ]
    }
   ],
   "source": [
    "func_test()"
   ]
  },
  {
   "cell_type": "code",
   "execution_count": 10,
   "id": "cbf1cccb-46c7-440b-a873-014fbe8ac8a6",
   "metadata": {},
   "outputs": [],
   "source": [
    "## 13. Explain the concept of the Diamond Problem in multiple inheritance. How does Python resolve it?\n",
    "\n",
    "#diamond problem- it occurs when a class inherits from 2 or more than 2 class>> will lead to ambiguity in execution of methods\n",
    "#To remove diamond problem- python uses method resolution order(MRO) algorithm \n",
    "#meaning that the class that is inherited first in the derived class, that method will be called>>in this case method 1\n",
    "\n",
    "class ParentClass1:\n",
    "    def method_par(self):\n",
    "        print(\"method 1 of parent class 1\")\n",
    "class ParentClass2:\n",
    "    def method_par(self):\n",
    "        print(\"method2 of parent class 2\")\n",
    "class ChildClass(ParentClass1, ParentClass2):\n",
    "    def method(self):\n",
    "        print(\"method of child class\")"
   ]
  },
  {
   "cell_type": "code",
   "execution_count": 11,
   "id": "1317c0cf-2a29-4975-ab26-17ecf921124b",
   "metadata": {},
   "outputs": [
    {
     "name": "stdout",
     "output_type": "stream",
     "text": [
      "method 1 of parent class 1\n"
     ]
    }
   ],
   "source": [
    "c1 = ChildClass()\n",
    "c1.method_par()"
   ]
  },
  {
   "cell_type": "code",
   "execution_count": 13,
   "id": "bd8aabde-3b3f-4130-99dd-6eee31784759",
   "metadata": {},
   "outputs": [
    {
     "name": "stdout",
     "output_type": "stream",
     "text": [
      "1 2\n"
     ]
    }
   ],
   "source": [
    "## 14. Write a class method that keeps track of the number of instances created from a class.\n",
    "\n",
    "class Something:\n",
    "    id=0\n",
    "    def __init__(self):\n",
    "        Something.id+=1\n",
    "        self.id = Something.id\n",
    "        \n",
    "something1=Something()\n",
    "something2=Something()\n",
    "\n",
    "print(something1.id, something2.id)"
   ]
  },
  {
   "cell_type": "code",
   "execution_count": 34,
   "id": "f45c4d3a-7bf4-465a-bb25-82683988d79e",
   "metadata": {},
   "outputs": [],
   "source": [
    "##  15. Implement a static method in a class that checks if a given year is a leap year\n",
    "\n",
    "class Leap_year:\n",
    "    \n",
    "    @staticmethod\n",
    "    def year(x):\n",
    "        if(x%4==0):\n",
    "            if(x%400):\n",
    "                print(\"the year is leap year\")\n",
    "            else:\n",
    "                print(\"the number is not leap year\")\n",
    "    "
   ]
  },
  {
   "cell_type": "code",
   "execution_count": 35,
   "id": "6efbb1c0-dedb-4a30-8b6b-62eadaf2bade",
   "metadata": {},
   "outputs": [
    {
     "name": "stdout",
     "output_type": "stream",
     "text": [
      "the year is leap year\n"
     ]
    }
   ],
   "source": [
    "Leap_year.year(2024)"
   ]
  },
  {
   "cell_type": "code",
   "execution_count": null,
   "id": "a4e97041-dce5-4a43-bee6-4fb2f9f78620",
   "metadata": {},
   "outputs": [],
   "source": []
  }
 ],
 "metadata": {
  "kernelspec": {
   "display_name": "Python 3 (ipykernel)",
   "language": "python",
   "name": "python3"
  },
  "language_info": {
   "codemirror_mode": {
    "name": "ipython",
    "version": 3
   },
   "file_extension": ".py",
   "mimetype": "text/x-python",
   "name": "python",
   "nbconvert_exporter": "python",
   "pygments_lexer": "ipython3",
   "version": "3.12.5"
  }
 },
 "nbformat": 4,
 "nbformat_minor": 5
}
