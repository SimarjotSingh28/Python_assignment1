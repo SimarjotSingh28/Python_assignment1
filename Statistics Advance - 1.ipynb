{
 "cells": [
  {
   "cell_type": "code",
   "execution_count": 1,
   "id": "60a87ecc-90f2-4f60-926f-b008eb64ed94",
   "metadata": {},
   "outputs": [],
   "source": [
    "##1. Explain the properties of the F-distribution.\n",
    "\n",
    "#The F-Distribution is commonly used in statistical analysis to compare the variances of two populations.\n",
    "#For example, it can be used in analysis of variance (ANOVA) to test for differences in means of three or more groups.\n",
    "#It can also be used in regression analysis to test the overall significance of a regression model, or to compare the variances of the residuals for two or more models.\n"
   ]
  },
  {
   "cell_type": "code",
   "execution_count": 2,
   "id": "d2ccbf8b-6f13-46cf-b5f5-119d69d95e1c",
   "metadata": {},
   "outputs": [],
   "source": [
    "##2. In which types of statistical tests is the F-distribution used, and why is it appropriate for these tests?\n",
    "\n",
    "#F test is a statistical test that is used in hypothesis testing to check whether the variances of two populations or two samples are equal or not. In an f test, the data follows an f distribution. This test uses the f statistic to compare two variances by dividing them."
   ]
  },
  {
   "cell_type": "code",
   "execution_count": 3,
   "id": "318f7135-06dd-4e07-83b8-d4658a396c1c",
   "metadata": {},
   "outputs": [],
   "source": [
    "##3. What are the key assumptions required for conducting an F-test to compare the variances of two populations?\n",
    "\n",
    "#The F-test assumes the two samples come from populations that are normally distributed\n",
    "#the sample should be independent of each other"
   ]
  },
  {
   "cell_type": "code",
   "execution_count": 4,
   "id": "e8fcea33-5673-4e69-ae78-4cc4e7b8b64a",
   "metadata": {},
   "outputs": [],
   "source": [
    "## 4. What is the purpose of ANOVA, and how does it differ from a t-test? \n",
    "\n",
    "#Analysis of variance (ANOVA) is a statistical test used to assess the difference between the means of more than two groups. At its core, ANOVA allows you to simultaneously compare arithmetic means across groups. You can determine whether the differences observed are due to random chance or if they reflect genuine, meaningful differences.\n",
    "# t-test compares two sample sizes (n) both below 30. ANOVA equates three or more such groups\n"
   ]
  },
  {
   "cell_type": "code",
   "execution_count": 5,
   "id": "2732132e-c04b-4b9b-afab-97eb6289a3dc",
   "metadata": {},
   "outputs": [],
   "source": [
    "##5. Explain when and why you would use a one-way ANOVA instead of multiple t-tests when comparing more than two groups\n",
    "\n",
    "#ANOVA compares means across multiple groups, while the t-test compares means between two groups. ANOVA is useful when comparing three or more groups, while the t-test is suitable for comparing two groups. ANOVA assesses overall group differences, while the t-test evaluates differences between specific pairs of groups"
   ]
  },
  {
   "cell_type": "code",
   "execution_count": 6,
   "id": "cc009aed-d94d-4183-88fe-14cd0c99f7e1",
   "metadata": {},
   "outputs": [],
   "source": [
    "##6. Explain how variance is partitioned in ANOVA into between-group variance and within-group variance. How does this partitioning contribute to the calculation of the F-statistic?\n",
    "\n",
    "#ANOVA calculates an F-statistic by comparing between-group variability to within-group variability. If the F-statistic exceeds a critical value, it indicates significant differences between group means. ANOVA is used to compare treatments, analyze factors impact on a variable, or compare means across multiple groups."
   ]
  },
  {
   "cell_type": "code",
   "execution_count": 7,
   "id": "81858423-367c-4995-a630-2716a94b2a3e",
   "metadata": {},
   "outputs": [],
   "source": [
    "##7. Compare the classical (frequentist) approach to ANOVA with the Bayesian approach. What are the key differences in terms of how they handle uncertainty, parameter estimation, and hypothesis testing?\n",
    "\n",
    "#the frequentist approach assigns probabilities to data, not to hypotheses, whereas the Bayesian approach assigns probabilities to hypotheses. Furthermore, Bayesian models incorporate prior knowledge into the analysis, updating hypotheses probabilities as more data become available.\n",
    "#he critical value is found in a table of probability values for the F distribution with (degrees of freedom) df1 = k-1, df2=N-k."
   ]
  },
  {
   "cell_type": "code",
   "execution_count": 5,
   "id": "c9d7b9a6-a48a-49fa-93b3-909664ede770",
   "metadata": {},
   "outputs": [
    {
     "name": "stdout",
     "output_type": "stream",
     "text": [
      "F-statistic: 2.089171974522293\n",
      "P-value: 0.24652429950266952\n",
      "Fail to reject the null hypothesis\n"
     ]
    }
   ],
   "source": [
    "## 8. Question: You have two sets of data representing the incomes of two different professions\n",
    "#Profession A: [48, 52, 55, 60, 62]\n",
    "#Profession B: [45, 50, 55, 52, 47] Perform an F-test to determine if the variances of the two professions' \n",
    "#incomes are equal. What are your conclusions based on the F-test?\n",
    "#Task: Use Python to calculate the F-statistic and p-value for the given data.\n",
    "#Objective: Gain experience in performing F-tests and interpreting the results in terms of variance comparison.\n",
    "\n",
    "import numpy as np\n",
    "import scipy.stats as stats\n",
    "\n",
    "professionA = np.array([48, 52, 55, 60, 62])\n",
    "professionB = np.array([45, 50, 55, 52, 47])\n",
    "\n",
    "varA = np.var(professionA, ddof=1)\n",
    "varB = np.var(professionB, ddof=1)\n",
    "\n",
    "f_statistic = varA / varB\n",
    "\n",
    "dfA = len(professionA) - 1\n",
    "dfB = len(professionB) - 1\n",
    "\n",
    "p_value = 1 - stats.f.cdf(f_statistic, dfA, dfB)\n",
    "\n",
    "print(f\"F-statistic: {f_statistic}\")\n",
    "print(f\"P-value: {p_value}\")\n",
    "\n",
    "alpha = 0.05\n",
    "if p_value < alpha:\n",
    "    print(\"Reject the null hypothesis\")\n",
    "else:\n",
    "    print(\"Fail to reject the null hypothesis\")\n"
   ]
  },
  {
   "cell_type": "code",
   "execution_count": 6,
   "id": "d654ff2b-d548-4932-8e46-62d2ae8be95c",
   "metadata": {},
   "outputs": [
    {
     "name": "stdout",
     "output_type": "stream",
     "text": [
      "F-statistic: 67.87330316742101\n",
      "P-value: 2.8706641879370266e-07\n",
      "Reject the null hypothesis\n"
     ]
    }
   ],
   "source": [
    "## 9. Question: Conduct a one-way ANOVA to test whether there are any statistically significant differences in average heights between three different regions with the following datRegion A: [160, 162, 165, 158, 164Region B: [172, 175, 170, 168, 174Region C: [180, 182, 179, 185, 183Task: Write Python code to perform the one-way ANOVA and interpret the result Objective: Learn how to perform one-way ANOVA using Python and interpret F-statistic and p-value\n",
    "\n",
    "import numpy as np\n",
    "import scipy.stats as stats\n",
    "\n",
    "region_a = np.array([160, 162, 165, 158, 164])\n",
    "region_b = np.array([172, 175, 170, 168, 174])\n",
    "region_c = np.array([180, 182, 179, 185, 183])\n",
    "\n",
    "f_statistic, p_value = stats.f_oneway(region_a, region_b, region_c)\n",
    "\n",
    "print(f\"F-statistic: {f_statistic}\")\n",
    "print(f\"P-value: {p_value}\")\n",
    "\n",
    "alpha = 0.05\n",
    "if p_value < alpha:\n",
    "    print(\"Reject the null hypothesis\")\n",
    "else:\n",
    "    print(\"Fail to reject the null hypothesis\")\n"
   ]
  },
  {
   "cell_type": "code",
   "execution_count": null,
   "id": "4ab89b1e-a5f2-4ef4-b035-158b5c34d8e5",
   "metadata": {},
   "outputs": [],
   "source": []
  }
 ],
 "metadata": {
  "kernelspec": {
   "display_name": "Python 3 (ipykernel)",
   "language": "python",
   "name": "python3"
  },
  "language_info": {
   "codemirror_mode": {
    "name": "ipython",
    "version": 3
   },
   "file_extension": ".py",
   "mimetype": "text/x-python",
   "name": "python",
   "nbconvert_exporter": "python",
   "pygments_lexer": "ipython3",
   "version": "3.12.5"
  }
 },
 "nbformat": 4,
 "nbformat_minor": 5
}
