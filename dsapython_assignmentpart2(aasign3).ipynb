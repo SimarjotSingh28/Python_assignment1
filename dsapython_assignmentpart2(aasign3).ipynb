{
 "cells": [
  {
   "cell_type": "code",
   "execution_count": 30,
   "id": "cb7fe478-93c5-483d-bed7-e938fc4f7faa",
   "metadata": {},
   "outputs": [
    {
     "name": "stdin",
     "output_type": "stream",
     "text": [
      "print element 23\n",
      "print element 54\n",
      "print element 76\n",
      "print element 89\n",
      "print element 60\n"
     ]
    },
    {
     "name": "stdout",
     "output_type": "stream",
     "text": [
      "now enter the set no 2\n"
     ]
    },
    {
     "name": "stdin",
     "output_type": "stream",
     "text": [
      "print element 89\n",
      "print element 76\n",
      "print element 32\n",
      "print element 67\n",
      "print element 32\n"
     ]
    },
    {
     "name": "stdout",
     "output_type": "stream",
     "text": [
      "set 1= {0, 76, 54, 23, 89, 60}\n",
      "set 2= {0, 32, 67, 76, 89}\n",
      "intersection {0, 89, 76}\n"
     ]
    }
   ],
   "source": [
    "#Create a code that prompts the user to enter two sets of integers separated by commas. Then, print the intersection of these two sets\n",
    "\n",
    "s5={0}\n",
    "for i in range(5):\n",
    "    i=int(input(\"print element\"))\n",
    "    s5.add(i)\n",
    "\n",
    "    \n",
    "print(\"now enter the set no 2\")\n",
    "    \n",
    "s6={0}\n",
    "for j in range(5):\n",
    "    j=int(input(\"print element\"))\n",
    "    s6.add(j)\n",
    "    \n",
    "print(\"set 1=\",s5);\n",
    "print(\"set 2=\",s6);\n",
    "\n",
    "s7=s5 & s6\n",
    "print(\"intersection\",s7);\n",
    "\n",
    "\n",
    "\n"
   ]
  },
  {
   "cell_type": "code",
   "execution_count": 6,
   "id": "d396a39c-f78c-4a9e-9f65-592ca06e4067",
   "metadata": {},
   "outputs": [
    {
     "name": "stdin",
     "output_type": "stream",
     "text": [
      "enter the element 1\n",
      "enter the element 2\n",
      "enter the element 3\n",
      "enter the element 4\n",
      "enter the element 5\n"
     ]
    },
    {
     "name": "stdout",
     "output_type": "stream",
     "text": [
      "now enter the 2 tuple\n"
     ]
    },
    {
     "name": "stdin",
     "output_type": "stream",
     "text": [
      "enter the element 6\n",
      "enter the element 7\n",
      "enter the element 8\n",
      "enter the element 9\n",
      "enter the element 10\n"
     ]
    },
    {
     "name": "stdout",
     "output_type": "stream",
     "text": [
      "('1', '2', '3', '4', '5', '6', '7', '8', '9', '10')\n"
     ]
    }
   ],
   "source": [
    "##  Write a code to concatenate two tuples. The function should take two tuples as input and return a new tuple containing elements from both input tuples\n",
    "\n",
    "t5=[]\n",
    "for i in range(5):\n",
    "    i=input(\"enter the element\")\n",
    "    t5.append(i)\n",
    "    \n",
    "t7=tuple(t5)\n",
    "\n",
    "print(\"now enter the 2 tuple\")\n",
    "    \n",
    "t6=[]\n",
    "for j in range(5):\n",
    "    j=input(\"enter the element\")\n",
    "    t6.append(j)\n",
    "    \n",
    "t8=tuple(t6)\n",
    "t10=()\n",
    "t10=t7+t8\n",
    "print(t10)\n"
   ]
  },
  {
   "cell_type": "code",
   "execution_count": 32,
   "id": "38794805-6bd7-4b88-8d39-72525ee56de0",
   "metadata": {},
   "outputs": [
    {
     "name": "stdin",
     "output_type": "stream",
     "text": [
      "print element 23\n",
      "print element 43\n",
      "print element 56\n",
      "print element 75\n",
      "print element 87\n"
     ]
    },
    {
     "name": "stdout",
     "output_type": "stream",
     "text": [
      "now enter the set no 2\n"
     ]
    },
    {
     "name": "stdin",
     "output_type": "stream",
     "text": [
      "print element 87\n",
      "print element 45\n",
      "print element 43\n",
      "print element 90\n",
      "print element 89\n"
     ]
    },
    {
     "name": "stdout",
     "output_type": "stream",
     "text": [
      "{'56', '75', '23'}\n"
     ]
    }
   ],
   "source": [
    "## Develop a code that prompts the user to input two sets of strings. Then, print the elements that are present in the first set but not in the second set\n",
    "\n",
    "s9={0}\n",
    "for i in range(5):\n",
    "    i=(input(\"print element\"))\n",
    "    s9.add(i)\n",
    "    \n",
    "print(\"now enter the set no 2\")\n",
    "\n",
    "s10={0}\n",
    "for j in range(5):\n",
    "    j=(input(\"print element\"))\n",
    "    s10.add(j) \n",
    "    \n",
    "s11=s9 - s10\n",
    "print(s11)\n",
    "  "
   ]
  },
  {
   "cell_type": "code",
   "execution_count": 18,
   "id": "b1d62f43-3bfc-427d-80fd-bd4edde05762",
   "metadata": {},
   "outputs": [
    {
     "name": "stdin",
     "output_type": "stream",
     "text": [
      "enter the element 1\n",
      "enter the element 7\n"
     ]
    }
   ],
   "source": [
    "##Create a code that takes a tuple and two integers as input. The function should return a new tuple containing elements from the original tuple within the specified range of indices\n",
    "\n",
    "t18=[1,2,3,4,5]\n",
    "\n",
    "t15=[]\n",
    "for i in range(2):\n",
    "    i=input(\"enter the element\")\n",
    "    t15.append(i)\n",
    "    \n",
    "\n",
    "for j in t18:\n",
    "    for i in t15:\n",
    "        if(i==j):\n",
    "            print(i)\n",
    "        "
   ]
  },
  {
   "cell_type": "code",
   "execution_count": 33,
   "id": "f770ca59-41ee-441f-ae0b-2b66cb38e4cc",
   "metadata": {},
   "outputs": [
    {
     "name": "stdin",
     "output_type": "stream",
     "text": [
      "print element 23\n",
      "print element 54\n",
      "print element 65\n",
      "print element 76\n",
      "print element 54\n"
     ]
    },
    {
     "name": "stdout",
     "output_type": "stream",
     "text": [
      "now enter the set no 2\n"
     ]
    },
    {
     "name": "stdin",
     "output_type": "stream",
     "text": [
      "print element 54\n",
      "print element 23\n",
      "print element 78\n",
      "print element 43\n",
      "print element 45\n"
     ]
    },
    {
     "name": "stdout",
     "output_type": "stream",
     "text": [
      "{0, '78', '43', '54', '65', '23', '45', '76'}\n"
     ]
    }
   ],
   "source": [
    "##  Write a code that prompts the user to input two sets of characters. Then, print the union of these two sets\n",
    "\n",
    "s11={0}\n",
    "for i in range(5):\n",
    "    i=(input(\"print element\"))\n",
    "    s11.add(i)\n",
    "\n",
    "    \n",
    "print(\"now enter the set no 2\")\n",
    "    \n",
    "s10={0}\n",
    "for j in range(5):\n",
    "    j=(input(\"print element\"))\n",
    "    s10.add(j)\n",
    "    \n",
    "s12=s11|s10    \n",
    "print(s12)"
   ]
  },
  {
   "cell_type": "code",
   "execution_count": 27,
   "id": "318a4904-2008-4ceb-a41c-02fd4a2173e3",
   "metadata": {},
   "outputs": [
    {
     "name": "stdin",
     "output_type": "stream",
     "text": [
      "enter the element 20\n",
      "enter the element 90\n",
      "enter the element 68\n",
      "enter the element 04\n",
      "enter the element 85\n"
     ]
    },
    {
     "name": "stdout",
     "output_type": "stream",
     "text": [
      "the maximum number in tuple is : 90\n",
      "the maximum number in tuple is : 04\n"
     ]
    }
   ],
   "source": [
    "##  Develop a code that takes a tuple of integers as input. The function should return the maximum and minimum values from the tuple using tuple unpacking\n",
    "\n",
    "t20=[]\n",
    "for i in range(5):\n",
    "    i=input(\"enter the element\")\n",
    "    t20.append(i)\n",
    "    \n",
    "t21=tuple(t20)\n",
    "print(\"the maximum number in tuple is :\",max(t21))\n",
    "print(\"the maximum number in tuple is :\", min(t21))"
   ]
  },
  {
   "cell_type": "code",
   "execution_count": 35,
   "id": "bac2fec6-d327-44e2-84e6-a8f4facd8892",
   "metadata": {},
   "outputs": [
    {
     "name": "stdout",
     "output_type": "stream",
     "text": [
      "the union is {1, 3, 5, 6, 8, 78, 90}\n",
      "the intersection is {5, 6}\n",
      "the differsence is {8, 1, 3}\n"
     ]
    }
   ],
   "source": [
    "##  Create a code that defines two sets of integers. Then, print the union, intersection, and difference of these two sets\n",
    "\n",
    "s100={1,8,5,6,3}\n",
    "s101={78,5,6,90}\n",
    "\n",
    "print('the union is',s100|s101)\n",
    "print('the intersection is',s100&s101)\n",
    "print('the differsence is',s100-s101)"
   ]
  },
  {
   "cell_type": "code",
   "execution_count": 40,
   "id": "324e3e4d-4c14-4f64-89e5-b5fbb9138516",
   "metadata": {},
   "outputs": [
    {
     "name": "stdin",
     "output_type": "stream",
     "text": [
      "enter the element 90\n",
      "enter the element 89\n",
      "enter the element 79\n",
      "enter the element 81\n",
      "enter the element 90\n",
      "enter the element you want to search in tuple 90\n"
     ]
    },
    {
     "name": "stdout",
     "output_type": "stream",
     "text": [
      "the occureence of the element is= 2\n"
     ]
    }
   ],
   "source": [
    "##  Write a code that takes a tuple and an element as input. The function should return the count of occurrences of the given element in the tuple\n",
    "\n",
    "t200=[]\n",
    "for i in range(5):\n",
    "    i=input(\"enter the element\")\n",
    "    t200.append(i)\n",
    "    \n",
    "t210=tuple(t200)\n",
    "\n",
    "n=input(\"enter the element you want to search in tuple\")\n",
    "print('the occureence of the element is=',t210.count(n))"
   ]
  },
  {
   "cell_type": "code",
   "execution_count": 46,
   "id": "af6a5841-c945-4362-bbb1-894e288fb5b5",
   "metadata": {},
   "outputs": [
    {
     "name": "stdin",
     "output_type": "stream",
     "text": [
      "print element 12\n",
      "print element 13\n",
      "print element 14\n",
      "print element 16\n",
      "print element 74\n"
     ]
    },
    {
     "name": "stdout",
     "output_type": "stream",
     "text": [
      "now print the second set\n"
     ]
    },
    {
     "name": "stdin",
     "output_type": "stream",
     "text": [
      "print element 96\n",
      "print element 12\n",
      "print element 13\n",
      "print element 90\n",
      "print element 56\n"
     ]
    },
    {
     "name": "stdout",
     "output_type": "stream",
     "text": [
      "the symmetric difference is  {'16', '56', '74', '96', '90', '14'}\n"
     ]
    }
   ],
   "source": [
    "## Develop a code that prompts the user to input two sets of strings. Then, print the symmetric difference of these two sets\n",
    "\n",
    "s115={0}\n",
    "for i in range(5):\n",
    "    i=(input(\"print element\"))\n",
    "    s115.add(i)\n",
    "    \n",
    "print('now print the second set')\n",
    "    \n",
    "s125={0}\n",
    "for i in range(5):\n",
    "    i=(input(\"print element\"))\n",
    "    s125.add(i)\n",
    "    \n",
    "print('the symmetric difference is ',s115^s125)"
   ]
  },
  {
   "cell_type": "code",
   "execution_count": 4,
   "id": "44c81f9b-cd22-41a8-9015-f2d3937090f2",
   "metadata": {},
   "outputs": [
    {
     "name": "stdout",
     "output_type": "stream",
     "text": [
      "{1: 4, 3: 4, 2: 5, 6: 2, 5: 1, 4: 3}\n"
     ]
    }
   ],
   "source": [
    "## Write a code that takes a list of words as input and returns a dictionary where the keys are unique words and the values are the frequencies of those words in the input list\n",
    "\n",
    "def CountFreq(li):\n",
    "    freq = {}\n",
    "    for item in li:\n",
    "        if (item in freq):\n",
    "            freq[item] += 1\n",
    "        else:\n",
    "            freq[item] = 1\n",
    "    print(freq) \n",
    "li =[1, 1, 3, 2, 6, 5, 3, 1, 3, 3, 1, 4, 6, 4, 4, 2, 2, 2, 2]\n",
    "CountFreq(li)"
   ]
  },
  {
   "cell_type": "code",
   "execution_count": 7,
   "id": "6e6af2f8-31d0-4009-8333-68ff30d55173",
   "metadata": {},
   "outputs": [
    {
     "name": "stdout",
     "output_type": "stream",
     "text": [
      "{'a': 112, 'b': 200, 'c': 309}\n"
     ]
    }
   ],
   "source": [
    "##  Write a code that takes two dictionaries as input and merges them into a single dictionary. If there are common keys, the values should be added together\n",
    "\n",
    "dict1 = {'a': 12, 'd': 25, 'c': 9}\n",
    "dict2 = {'a': 100, 'b': 200, 'c': 300}\n",
    " \n",
    "\n",
    "for key in dict2:\n",
    "    \n",
    "        if key in dict1:\n",
    "            dict2[key] = dict2[key] + dict1[key]\n",
    "        else:\n",
    "            pass\n",
    "         \n",
    "print(dict2)"
   ]
  },
  {
   "cell_type": "code",
   "execution_count": 11,
   "id": "3a4ae574-e5fe-490f-934f-7c46e6a82547",
   "metadata": {},
   "outputs": [
    {
     "name": "stdout",
     "output_type": "stream",
     "text": [
      "{'Arun': 90, 'Ajay': 95, 'Bijay': 85}\n"
     ]
    }
   ],
   "source": [
    "##  Write a code to access a value in a nested dictionary. The function should take the dictionary and a list of keys as input, and return the corresponding value. If any of the keys do not exist in the dictionary, the function should return None\n",
    "\n",
    "students = [\"Arun\", \"Ajay\", \"Bijay\"]\n",
    "marks = [90, 95, 85]\n",
    "students_marks = {}\n",
    "for student, mark in zip(students, marks):\n",
    "    students_marks[student] = mark\n",
    "    \n",
    "print(students_marks)"
   ]
  },
  {
   "cell_type": "code",
   "execution_count": 66,
   "id": "d1fab52a-8d02-483a-ba85-916027562833",
   "metadata": {},
   "outputs": [
    {
     "name": "stdout",
     "output_type": "stream",
     "text": [
      "{'cijay': 1, 'Ajay': 3, 'bijay': 9}\n"
     ]
    }
   ],
   "source": [
    "##  Write a code that takes a dictionary as input and returns a sorted version of it based on the values. You can choose whether to sort in ascending or descending order\n",
    "\n",
    "d1={'Ajay':3,'cijay':1,'bijay':9}\n",
    "\n",
    "d2=dict(sorted(d1.items(), key=lambda item: item[1]))\n",
    "print(d2)\n"
   ]
  },
  {
   "cell_type": "code",
   "execution_count": 72,
   "id": "29bbd307-499c-4c2c-b6e1-c5cd5b9f9d25",
   "metadata": {},
   "outputs": [
    {
     "name": "stdout",
     "output_type": "stream",
     "text": [
      "1  :   ajay\n",
      "2  :   bitu\n",
      "3  :   citu\n"
     ]
    }
   ],
   "source": [
    "## Write a code that inverts a dictionary, swapping keys and values. Ensure that the inverted dictionary correctly handles cases where multiple keys have the same value by storing the keys as a list in the inverted dictionary.\n",
    "\n",
    "dic3={\"ajay\":\"1\",\"bitu\":\"2\",\"citu\":\"3\"}\n",
    "\n",
    "dic4 = dict([(value, key) for key, value in dic3.items()])\n",
    "for i in dic4:\n",
    "    print(i, \" :  \",dic4[i])"
   ]
  },
  {
   "cell_type": "code",
   "execution_count": null,
   "id": "1cfc86b8-f085-4550-b701-8f9e3d96a4a4",
   "metadata": {},
   "outputs": [],
   "source": []
  }
 ],
 "metadata": {
  "kernelspec": {
   "display_name": "Python 3 (ipykernel)",
   "language": "python",
   "name": "python3"
  },
  "language_info": {
   "codemirror_mode": {
    "name": "ipython",
    "version": 3
   },
   "file_extension": ".py",
   "mimetype": "text/x-python",
   "name": "python",
   "nbconvert_exporter": "python",
   "pygments_lexer": "ipython3",
   "version": "3.10.8"
  }
 },
 "nbformat": 4,
 "nbformat_minor": 5
}
