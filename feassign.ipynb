{
 "cells": [
  {
   "cell_type": "code",
   "execution_count": 1,
   "id": "49da585e-5cfd-4ff3-9907-b46b0cf20fb8",
   "metadata": {},
   "outputs": [],
   "source": [
    "#1. What is a parameter?\n",
    "\n",
    "#a parameter is something that decides or limits the way in which something can be done"
   ]
  },
  {
   "cell_type": "code",
   "execution_count": 2,
   "id": "cd3c3fea-7a0e-4ac1-806a-2d3bf2c34bff",
   "metadata": {},
   "outputs": [],
   "source": [
    "#2. What is correlation?\n",
    "\n",
    "#Correlation is a statistical measure that expresses the extent to which two variables are linearly related (meaning they change together at a constant rate). It’s a common tool for describing simple relationships without making a statement about cause and effect."
   ]
  },
  {
   "cell_type": "code",
   "execution_count": 3,
   "id": "7e3c09a7-e65c-40a9-a1c5-defae12ef38c",
   "metadata": {},
   "outputs": [],
   "source": [
    "#3.Define Machine Learning. What are the main components in Machine Learning?\n",
    "\n",
    "#Machine learning (ML) is a subfield of artificial intelligence (AI) that focuses on creating algorithms and models that enable computers to learn from data and make predictions or decisions without being explicitly programmed. It entails training models on labeled data and then using them to generate accurate predictions or take action on fresh, previously unseen data.\n",
    "#Representation\n",
    "#Evaluation\n",
    "#Optimization"
   ]
  },
  {
   "cell_type": "code",
   "execution_count": 4,
   "id": "1e9a742d-bf01-4102-a4d6-4330ec229da9",
   "metadata": {},
   "outputs": [],
   "source": [
    "#4. How does loss value help in determining whether the model is good or not?\n",
    "\n",
    "#Loss is a numerical metric that describes how wrong a model's predictions are. Loss measures the distance between the model's predictions and the actual labels. The goal of training a model is to minimize the loss, reducing it to its lowest possible value.\n"
   ]
  },
  {
   "cell_type": "code",
   "execution_count": 5,
   "id": "deb932e9-68d8-45de-9f2c-257e314762c5",
   "metadata": {},
   "outputs": [],
   "source": [
    "#5.What are continuous and categorical variables?\n",
    "\n",
    "#categorical data\n",
    "#Categorical data, also known as qualitative data, consists of categories or labels that represent distinct groups or classes. These categories are typically non-numeric and describe qualitative characteristics.\n",
    "#continuous data\n",
    "#Continuous data, also known as quantitative data, represents measurements or numerical values that can take on any real number within a specific range. Continuous data is typically collected through measurement and is characterized by its infinite number of possible values."
   ]
  },
  {
   "cell_type": "code",
   "execution_count": 6,
   "id": "951a998b-4b39-4321-841b-fc9917a4f21e",
   "metadata": {},
   "outputs": [],
   "source": [
    "#7. What do you mean by training and testing a dataset?\n",
    "#The training data is used to train the machine learning algorithm. The testing data is used to evaluate the accuracy of the trained algorithm"
   ]
  },
  {
   "cell_type": "code",
   "execution_count": 7,
   "id": "62d15b6e-a4c3-4f0a-9654-1e9852c61869",
   "metadata": {},
   "outputs": [],
   "source": [
    "#8. What is sklearn.preprocessing?\n",
    "\n",
    "#The sklearn. preprocessing package provides several common utility functions and transformer classes to change raw feature vectors into a representation that is more suitable for the downstream estimators. In general, learning algorithms benefit from standardization of the data set."
   ]
  },
  {
   "cell_type": "code",
   "execution_count": 9,
   "id": "885497dc-274a-4c4f-89d6-331a7dbcf353",
   "metadata": {},
   "outputs": [],
   "source": [
    "#9.What is a Test set?\n",
    "#The test dataset is a subset of the training dataset that is utilized to give an objective evaluation of a final model."
   ]
  },
  {
   "cell_type": "code",
   "execution_count": 10,
   "id": "e4d2392a-d34b-4082-862e-c48c7d915b48",
   "metadata": {},
   "outputs": [],
   "source": [
    "#11.Why do we have to perform EDA before fitting a model to the data?\n",
    "#we perform EDA before fitting a model to the data in order to check assumptions, inspect the data for anomalies (such as missing, duplicated, or mis-coded data), and inform feature selection/transformation."
   ]
  },
  {
   "cell_type": "code",
   "execution_count": 11,
   "id": "4dfb7390-a81b-4785-8c49-ffc649602b10",
   "metadata": {},
   "outputs": [],
   "source": [
    "#13.What does negative correlation mean?\n",
    "\n",
    "# A negative correlation is a relationship between two variables that move in opposite directions. In other words, when variable A increases, variable B decreases. A negative correlation is also known as an inverse correlation."
   ]
  },
  {
   "cell_type": "code",
   "execution_count": 13,
   "id": "59a77f1c-f6e1-42ec-8ef0-836f42d750b4",
   "metadata": {},
   "outputs": [],
   "source": [
    "#14.How can you find correlation between variables in Python?\n",
    "\n",
    "#Corrleation matrix. A correlation matrix is a handy way to calculate the pairwise correlation coefficients between two or more (numeric) variables."
   ]
  },
  {
   "cell_type": "code",
   "execution_count": 14,
   "id": "78d25ef1-51f3-4919-bf4e-ab3821009cfd",
   "metadata": {},
   "outputs": [],
   "source": [
    "#15.What is causation? Explain difference between correlation and causation with an example.\n",
    "\n",
    "#the act or process of causing something to happen or exist is known as causation \n",
    "#Correlation is a situation where two variables move together, but this relationship does not necessarily indicate causality.\n",
    "#Causation describes a direct relationship where changes in one variable directly result in changes in another.\n"
   ]
  },
  {
   "cell_type": "code",
   "execution_count": 15,
   "id": "807ad674-2b87-4d84-8618-5028e924a642",
   "metadata": {},
   "outputs": [],
   "source": [
    "#16.What is an Optimizer? What are different types of optimizers? Explain each with an example\n",
    "\n",
    "#Optimizers adjust neural network parameters to minimize loss functions effectively.\n",
    "#TYPES OF OPTIMIZERS :\n",
    "\n",
    "#Gradient Descent\n",
    "#Stochastic Gradient Descent\n",
    "#Adagrad\n",
    "#Adadelta\n",
    "#RMSprop\n",
    "#Adam"
   ]
  },
  {
   "cell_type": "code",
   "execution_count": 16,
   "id": "ef14cb65-5d58-4038-94e9-befba948c6b0",
   "metadata": {},
   "outputs": [],
   "source": [
    "#17.What is sklearn.linear_model ?\n",
    "#linear_model is a class of the sklearn module if contain different functions for performing machine learning with linear models. The term linear model implies that the model is specified as a linear combination of features."
   ]
  },
  {
   "cell_type": "code",
   "execution_count": 17,
   "id": "4332b45a-dd90-425b-a8f4-d6658cf00039",
   "metadata": {},
   "outputs": [],
   "source": [
    "#18.What does model.fit() do? What arguments must be given?\n",
    "\n",
    "#To train a model with fit() , you need to specify a loss function, an optimizer, and optionally, some metrics to monitor.The metrics argument should be a list – your model can have any number of metrics."
   ]
  },
  {
   "cell_type": "code",
   "execution_count": 18,
   "id": "bafd3439-8fd6-40ff-b3ee-d1532091f18f",
   "metadata": {},
   "outputs": [],
   "source": [
    "#19.What does model.predict() do? What arguments must be given?\n",
    "#The output of this function typically represents the model's predictions or estimated probabilities for the input data. When you call model. predict on a set of input data, you receive an array or tensor containing the model's predictions for each input sample."
   ]
  },
  {
   "cell_type": "code",
   "execution_count": 19,
   "id": "90926ebc-b905-418b-b8e5-65b26274069a",
   "metadata": {},
   "outputs": [],
   "source": [
    "#21.What is feature scaling? How does it help in Machine Learning?\n",
    "#Feature scaling is a vital pre processing step in machine learning that involves transforming numerical features to a common scale. It plays a major role in ensuring accurate and efficient model training and performance."
   ]
  },
  {
   "cell_type": "code",
   "execution_count": 20,
   "id": "3cd64a81-c601-4585-8fcb-db6bde5e90de",
   "metadata": {},
   "outputs": [],
   "source": [
    "#22.What is sklearn.preprocessing?\n",
    "#The sklearn. preprocessing package provides several common utility functions and transformer classes to change raw feature vectors into a representation that is more suitable for the downstream estimators.\n"
   ]
  },
  {
   "cell_type": "code",
   "execution_count": null,
   "id": "e7561b4f-cba2-45b1-a2b7-d25bfe82c49d",
   "metadata": {},
   "outputs": [],
   "source": [
    "#25. Explain data encoding?\n",
    "#Encoding is the process of converting the data or a given sequence of characters, symbols, alphabets etc., into a specified format, for the secured transmission of data."
   ]
  }
 ],
 "metadata": {
  "kernelspec": {
   "display_name": "Python 3 (ipykernel)",
   "language": "python",
   "name": "python3"
  },
  "language_info": {
   "codemirror_mode": {
    "name": "ipython",
    "version": 3
   },
   "file_extension": ".py",
   "mimetype": "text/x-python",
   "name": "python",
   "nbconvert_exporter": "python",
   "pygments_lexer": "ipython3",
   "version": "3.12.5"
  }
 },
 "nbformat": 4,
 "nbformat_minor": 5
}
