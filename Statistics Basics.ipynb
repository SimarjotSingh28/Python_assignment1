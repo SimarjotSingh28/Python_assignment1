{
 "cells": [
  {
   "cell_type": "code",
   "execution_count": 2,
   "id": "0dabae54-362d-4789-8d06-1f03e7c4b58b",
   "metadata": {},
   "outputs": [],
   "source": [
    "## 1. Explain the different types of data (qualitative and quantitative) and provide examples of each. Discuss nominal, ordinal, interval, and ratio scales.\n",
    "\n",
    "#Quantitative data is objective and focuses on measurable quantities.It allows for statistical analysis and provides precise results.Examples of quantitative data include numerical measurements, percentages, and counts.\n",
    "\n",
    "#Qualitative data is subjective and focuses on the quality and richness of information.It helps to explore complex phenomena and understand the context.Examples of qualitative data include interview transcripts, observations, and written narratives.\n",
    "\n",
    "#Nominal: the data can only be categorized\n",
    "\n",
    "#Ordinal: the data can be categorized and ranked\n",
    "\n",
    "#Interval: the data can be categorized, ranked, and evenly spaced\n",
    "\n",
    "#Ratio: the data can be categorized, ranked, evenly spaced, and has a natural zero."
   ]
  },
  {
   "cell_type": "code",
   "execution_count": 3,
   "id": "3833d129-d70f-44fd-b3e3-21b213616d6a",
   "metadata": {},
   "outputs": [],
   "source": [
    "##  2. What are the measures of central tendency, and when should you use each? Discuss the mean, median, and mode with examples and situations where each is appropriate.\n",
    "\n",
    "#Measures of central tendency help you find the middle, or the average, of a dataset. The 3 most common measures of central tendency are the mode, median, and mean.\n",
    "#Mode: the most frequent value.\n",
    "#Median: the middle number in an ordered dataset.\n",
    "#Mean: the sum of all values divided by the total number of values.\n",
    "\n"
   ]
  },
  {
   "cell_type": "code",
   "execution_count": 4,
   "id": "c6341684-9c96-465b-b394-e3cbbb17a67c",
   "metadata": {},
   "outputs": [],
   "source": [
    "##  3. Explain the concept of dispersion. How do variance and standard deviation measure the spread of data?\n",
    "\n",
    "#The term dispersion is a statistical term which represents the size of distribution of values that are expected for a specific variable. Dispersion can be calculated and measured using different statistics such as, range, variance and standard deviation.\n",
    "\n",
    "#Standard deviation is the spread of a group of numbers from the mean. The variance measures the average degree to which each point differs from the mean. While standard deviation is the square root of the variance, variance is the average of the squared difference of each data point from the mean.\n"
   ]
  },
  {
   "cell_type": "code",
   "execution_count": 5,
   "id": "b0ca93fe-ea20-42bc-a2b2-62c370fb4ae1",
   "metadata": {},
   "outputs": [],
   "source": [
    "## 4. What is a box plot, and what can it tell you about the distribution of data?\n",
    "\n",
    "#A box plot or diagram is a graph summarising a set of data. The shape of the boxplot shows how the data is distributed and it also shows any outliers.\n",
    "#Box plots are used to show distributions of numeric data values, especially when you want to compare them between multiple groups."
   ]
  },
  {
   "cell_type": "code",
   "execution_count": 6,
   "id": "9af2c594-e70b-4c19-a1a2-53678dee7779",
   "metadata": {},
   "outputs": [],
   "source": [
    "## 5. Discuss the role of random sampling in making inferences about populations\n",
    "\n",
    "#A random sample means independent and identical represents the correct picture of Population. It means, if we have a random sample then we can easily obtain an estimate of the population as a sample mean and the estimate of the population mean square is also the same as the sample mean square.it is used when the population of the sample is high and we cannot count the sample "
   ]
  },
  {
   "cell_type": "code",
   "execution_count": 7,
   "id": "854ea1f0-a3b0-45d9-bff4-47f5d4496761",
   "metadata": {},
   "outputs": [],
   "source": [
    "## 6. Explain the concept of skewness and its types. How does skewness affect the interpretation of data?\n",
    "\n",
    "#Skewness measures the deviation of a random variable's given distribution from the normal distribution, which is symmetrical on both sides.\n",
    "#its types are-\n",
    "#1. Positive Skewness-If the given distribution is shifted to the left and with its tail on the right side, it is a positively skewed distribution.a positively skewed distribution assumes a skewness value of more than zero.\n",
    "#2. Negative Skewness-If the given distribution is shifted to the right and with its tail on the left side, it is a negatively skewed distribution.The skewness value of any distribution showing a negative skew is always less than zero.\n",
    "#Skewness can be positive or negative, signifying data leans to the right or left of the mean, respectively. It is a vital tool for data scientists as it provides insights into the shape of the data and its distribution.the tail of the distribution is slightly longer on the left side, and most of the scores are concentrated on the right side of the mean."
   ]
  },
  {
   "cell_type": "code",
   "execution_count": 8,
   "id": "0bbe76c0-cff9-45d0-85a7-97edcebc7979",
   "metadata": {},
   "outputs": [],
   "source": [
    "## 7. What is the interquartile range (IQR), and how is it used to detect outliers?\n",
    "\n",
    "#IQR is used to measure variability by dividing a data set into quartiles. The data is sorted in ascending order and split into 4 equal parts. Q1, Q2, Q3 called first, second and third quartiles are the values which separate the 4 equal parts.\n",
    "#Q1 represents the 25th percentile of the data.\n",
    "#Q2 represents the 50th percentile of the data.\n",
    "#Q3 represents the 75th percentile of the data.\n",
    "#If a dataset has 2n or 2n+1 data points, then\n",
    "#Q2 = median of the dataset.\n",
    "#Q1 = median of n smallest data points.\n",
    "#Q3 = median of n highest data points.\n",
    "#IQR is the range between the first and the third quartiles namely Q1 and Q3: IQR = Q3 – Q1. The data points which fall below Q1 – 1.5 IQR or above Q3 + 1.5 IQR are outliers.\n"
   ]
  },
  {
   "cell_type": "code",
   "execution_count": 9,
   "id": "058a0b10-0ed1-4a6f-8df5-2f776620b876",
   "metadata": {},
   "outputs": [],
   "source": [
    "## 8. Discuss the conditions under which the binomial distribution is used.\n",
    "\n",
    "#binomial equation is ncxp^xq^n-x\n",
    "#1: The number of observations n is fixed.\n",
    "#2: Each observation is independent.\n",
    "#3: Each observation represents one of two outcomes (\"success\" or \"failure\").\n",
    "#4: The probability of \"success\" p is the same for each outcome.\n"
   ]
  },
  {
   "cell_type": "code",
   "execution_count": 10,
   "id": "87627d2b-4fe9-4df7-80f3-2316a8d3661e",
   "metadata": {},
   "outputs": [],
   "source": [
    "##9. Explain the properties of the normal distribution and the empirical rule (68-95-99.7 rule).\n",
    "\n",
    "#The empirical rule states that in a normal distribution, virtually all observed data will fall within three standard deviations of the mean. Under this rule, 68% of the data will fall within one standard deviation, 95% within two standard deviations, and 99.7% within three standard deviations from the mean.\n"
   ]
  },
  {
   "cell_type": "code",
   "execution_count": 11,
   "id": "caf5a823-6f84-426c-a31a-b8f5944da34a",
   "metadata": {},
   "outputs": [],
   "source": [
    "## 10. Provide a real-life example of a Poisson process and calculate the probability for a specific event.\n",
    "\n",
    "#A Poisson distribution is a discrete probability distribution. It gives the probability of an event happening a certain number of times (k) within a given interval of time or space. The Poisson distribution has only one parameter, λ (lambda), which is the mean number of events.\n",
    "#Example : Number of Website Visitors per Hour\n",
    "#Example : An average of 0.61 soldiers died by horse kicks per year in each Prussian army corps. You want to calculate the probability that exactly two soldiers died in the VII Army Corps in 1898, assuming that the number of horse kick deaths per year follows a Poisson distribution.\n",
    "#k=2\n",
    "#lambda=0.61\n",
    "#e=2.718\n",
    "#p(x=k)=(e^-lambda)*lambda*k/k!\n",
    "#p(x=2)=0.101"
   ]
  },
  {
   "cell_type": "code",
   "execution_count": 12,
   "id": "29a4d842-4a46-4bd9-9147-9913abe3933b",
   "metadata": {},
   "outputs": [],
   "source": [
    "## 11. Explain what a random variable is and differentiate between discrete and continuous random variables\n",
    "#A random variable is a rule that assigns a numerical value to each outcome in a sample space  a variable whose possible values are numerical outcomes of a random phenomenon\n",
    "\n",
    "#Discrete Variable-Takes on a fixed, countable value,Examples of a Discrete Variable are number of apples, number of students in a class,A Discrete Variable can be represented by integers.\n",
    "#Continuous Variable-Takes on any value within a given range, that is measurable but prone to continuous change.,Examples of a Continuous variable are temperature, weight, etc..,A Continuous Variable can be represented by decimals or fractions."
   ]
  },
  {
   "cell_type": "code",
   "execution_count": null,
   "id": "30adc832-9f5f-4d6d-babb-b74ea9b3272d",
   "metadata": {},
   "outputs": [],
   "source": [
    "## 12. Provide an example dataset, calculate both covariance and correlation, and interpret the results\n",
    "\n",
    "#given in link\n"
   ]
  }
 ],
 "metadata": {
  "kernelspec": {
   "display_name": "Python 3 (ipykernel)",
   "language": "python",
   "name": "python3"
  },
  "language_info": {
   "codemirror_mode": {
    "name": "ipython",
    "version": 3
   },
   "file_extension": ".py",
   "mimetype": "text/x-python",
   "name": "python",
   "nbconvert_exporter": "python",
   "pygments_lexer": "ipython3",
   "version": "3.12.5"
  }
 },
 "nbformat": 4,
 "nbformat_minor": 5
}
