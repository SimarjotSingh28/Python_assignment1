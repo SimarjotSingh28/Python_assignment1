{
 "cells": [
  {
   "cell_type": "code",
   "execution_count": 4,
   "id": "e6ee3ad0-5593-4d4b-aced-23f37aa5aa39",
   "metadata": {},
   "outputs": [
    {
     "data": {
      "text/plain": [
       "106"
      ]
     },
     "execution_count": 4,
     "metadata": {},
     "output_type": "execute_result"
    }
   ],
   "source": [
    "## 1. What is the difference between a function and a method in Python?\n",
    "\n",
    "#functions are built in type\n",
    "#they are block of code which perform a specific task such as sum,addition,multiplication,etc\n",
    "#they are used to reduce the time of the programmer \n",
    "#it reduces time because the block of code used to define a function can be called multiple times.\n",
    "# syntax - def fun():\n",
    "#example\n",
    "def sum(a,b):\n",
    "    \n",
    "    return a+b\n",
    "    \n",
    "sum(39,67)"
   ]
  },
  {
   "cell_type": "code",
   "execution_count": 5,
   "id": "a71b942d-f60c-4ddf-be94-1b9bb524fc18",
   "metadata": {},
   "outputs": [],
   "source": [
    "# Method is called by its name, but it is associated to an object  \n",
    "#A method definition always includes ‘self’ as its first parameter.\n",
    "#It may or may not return any data."
   ]
  },
  {
   "cell_type": "code",
   "execution_count": 6,
   "id": "ab46fe76-1a2e-4a03-a8ba-23f15182fba2",
   "metadata": {},
   "outputs": [
    {
     "data": {
      "text/plain": [
       "3060"
      ]
     },
     "execution_count": 6,
     "metadata": {},
     "output_type": "execute_result"
    }
   ],
   "source": [
    "##  2. Explain the concept of function arguments and parameters in Python.\n",
    "\n",
    "#function arguments are used to pass some input to the function while calling.\n",
    "#function arguments are the value assigned by the user while calling it,\n",
    "#default argument is used to give a default value to the parameter used in function \n",
    "\n",
    "#function  parameters are the variable used to refer a piece of code in a function \n",
    "\n",
    "\n",
    "#example\n",
    "\n",
    "def mul(a,b,c=1):       #here a,b,c are parameters, c is assigned with default value if not called in function c will be assigned with this value\n",
    "    return a*b*c\n",
    "\n",
    "mul(68,45)              #68,45 are arguments used "
   ]
  },
  {
   "cell_type": "code",
   "execution_count": 7,
   "id": "76a2d9c5-fae5-4b66-bed2-ad171ec94d77",
   "metadata": {},
   "outputs": [],
   "source": [
    "## 3. What are the different ways to define and call a function in Python?\n",
    "\n",
    "#different ways to define and call a function in Python are-\n",
    "# using the keyword def and the to call it we use fuction_name(arguments are inserted here)\n",
    "# using the lambda to define the function \n",
    "# reduce keyword is also used\n"
   ]
  },
  {
   "cell_type": "code",
   "execution_count": 14,
   "id": "3a46e7d1-ca95-4394-bc4d-b400f38060a9",
   "metadata": {},
   "outputs": [
    {
     "name": "stdout",
     "output_type": "stream",
     "text": [
      "825\n"
     ]
    }
   ],
   "source": [
    "##  4. What is the purpose of the `return` statement in a Python function?\n",
    "\n",
    "#return statement is used to return a value after executing a function or a code .\n",
    "#a return statement is used after declaring a function \n",
    "\n",
    "#syntax-\n",
    "def func(a,b):          #fuction is declared\n",
    "    return a+b          #return is used"
   ]
  },
  {
   "cell_type": "code",
   "execution_count": 15,
   "id": "d9efa4cc-5160-495a-a42b-3a1b64b559ef",
   "metadata": {},
   "outputs": [
    {
     "name": "stdout",
     "output_type": "stream",
     "text": [
      "apple\n"
     ]
    }
   ],
   "source": [
    "##  5. What are iterators in Python and how do they differ from iterables?\n",
    "\n",
    "#Iterator in python is an object that is used to iterate over iterable objects like lists, tuples, dicts, and sets.\n",
    "#they differ from from iterables because iterables are object like lists,tuples,sets,dicts,\n",
    "#the iterators are used to iterate this iterable objects\n",
    "\n",
    "#examples-\n",
    "t4 = (\"apple\", \"banana\", \"orange\")\n",
    "itt4 = iter(t4)\n",
    "print(next(itt4))"
   ]
  },
  {
   "cell_type": "code",
   "execution_count": 16,
   "id": "a08aebbe-eba4-4bda-9a99-7f73f4255927",
   "metadata": {},
   "outputs": [
    {
     "name": "stdout",
     "output_type": "stream",
     "text": [
      "banana\n"
     ]
    }
   ],
   "source": [
    "print(next(itt4))"
   ]
  },
  {
   "cell_type": "code",
   "execution_count": 22,
   "id": "928a2097-3171-487f-ba45-e34e6d3bc6f4",
   "metadata": {},
   "outputs": [
    {
     "name": "stdout",
     "output_type": "stream",
     "text": [
      "Learn: Python\n",
      "Learn: Web Development\n",
      "Learn: Problem Solving\n",
      "Learn: Debugging\n"
     ]
    }
   ],
   "source": [
    "##  6. Explain the concept of generators in Python and how they are defined.\n",
    "\n",
    "# Generator functions in Python are same as  iterators but in a more concise and memory-efficient manner\n",
    "# These functions allow you to iterate over a potentially large sequence of data without loading the entire sequence into memory.\n",
    "# in generator yeild keyword in used\n",
    "\n",
    "def pw_skills_generator():\n",
    "    yield \"Python\"\n",
    "    yield \"Web Development\"\n",
    "    yield \"Problem Solving\"\n",
    "    yield \"Debugging\"\n",
    " \n",
    "for skill in pw_skills_generator():\n",
    "    print(f\"Learn: {skill}\")"
   ]
  },
  {
   "cell_type": "code",
   "execution_count": 23,
   "id": "38c73a69-534a-4d56-bfcd-f9055bee478f",
   "metadata": {},
   "outputs": [],
   "source": [
    "##  7. What are the advantages of using generators over regular functions?\n",
    "\n",
    "#advantages are-\n",
    "# Lazy Evaluation:this means that the values are generated only when the programmer wants. this is particularly useful for working with large datasets or infinite sequences.\n",
    "#Memory Efficiency:generators are memory-efficient because they don't store all values in memory.each value is generated once,and is useful for working with large datasets when the memory is concern for the company or user\n"
   ]
  },
  {
   "cell_type": "code",
   "execution_count": 2,
   "id": "af2d3b50-a549-4d1a-9beb-5f62014d49ae",
   "metadata": {},
   "outputs": [
    {
     "name": "stdout",
     "output_type": "stream",
     "text": [
      "373\n"
     ]
    }
   ],
   "source": [
    "##  8. What is a lambda function in Python and when is it typically used?\n",
    "\n",
    "# A lambda function in Python is a concise way to create functions\n",
    "# In normal defining a function we use def keyword but in lambda function we use lambda keyword\n",
    "#Lambda functions are efficient whenever you want to create a function that will only contain simple expressions.\n",
    "\n",
    "# example-\n",
    "add = lambda x, y: x + y\n",
    "result = add(31, 342)\n",
    "print(result)"
   ]
  },
  {
   "cell_type": "code",
   "execution_count": 5,
   "id": "d19a5cb2-0c54-4b64-932d-a3f13c5addf4",
   "metadata": {},
   "outputs": [
    {
     "name": "stdout",
     "output_type": "stream",
     "text": [
      "[169, 1156, 2916, 3136]\n"
     ]
    }
   ],
   "source": [
    "## 9. Explain the purpose and usage of the `map()` function in Python.\n",
    "\n",
    "# The map() function in Python is a built-in function that applies to all the items in an iterable (e.g., a list) and returns an iterable map object (an iterator) of the results.\n",
    "# syntax-map(function, iterable, ...)\n",
    "# example-\n",
    "numbers = [13,34,54,56]\n",
    "sq_numbers = list(map(lambda x: x**2, numbers))\n",
    "print(sq_numbers)"
   ]
  },
  {
   "cell_type": "code",
   "execution_count": 6,
   "id": "62f7aef6-4995-48c9-bf70-2b945f272962",
   "metadata": {},
   "outputs": [
    {
     "name": "stdout",
     "output_type": "stream",
     "text": [
      "[169, 1156, 2916, 3136]\n"
     ]
    }
   ],
   "source": [
    "## 10. What is the difference between `map()`, `reduce()`, and `filter()` functions in Python?\n",
    "\n",
    "#map()\n",
    "# The map() function in Python is a built-in function that applies to all the items in an iterable (e.g., a list) and returns an iterable map object (an iterator) of the results.\n",
    "# syntax-map(function, iterable, ...)\n",
    "# example-\n",
    "numbers = [13,34,54,56]\n",
    "sq_numbers = list(map(lambda x: x**2, numbers))\n",
    "print(sq_numbers)"
   ]
  },
  {
   "cell_type": "code",
   "execution_count": 7,
   "id": "01dfb5ef-45d4-4c4c-8168-f8fa1bf78cb8",
   "metadata": {},
   "outputs": [
    {
     "name": "stdout",
     "output_type": "stream",
     "text": [
      "6767\n"
     ]
    }
   ],
   "source": [
    "#reduce()\n",
    "#it basically means folding of list\n",
    "# It is a process where you reduce a list of items to a single value.\n",
    "# it repeat the process until the iterable is exhausted. \n",
    "#syntax- functools.reduce(function, iterable[, initializer])\n",
    "\n",
    "from functools import reduce\n",
    "numbers = [43,3243,3424,34,23]\n",
    "sum = reduce(lambda x, y: x + y, numbers)\n",
    "print(sum)"
   ]
  },
  {
   "cell_type": "code",
   "execution_count": 14,
   "id": "207607c9-a0e9-43cd-8e75-3e7a4bafb7b0",
   "metadata": {},
   "outputs": [
    {
     "name": "stdout",
     "output_type": "stream",
     "text": [
      "['Banana', 'Brinjal']\n"
     ]
    }
   ],
   "source": [
    "#filter()\n",
    "#the filter function is built in function used in python to  pick only the items that meet specific criteria from your list.\n",
    "\n",
    "t4 = (\"apple\", \"Banana\", \"orange\",\"Brinjal\")\n",
    "def starts_with_b(item):\n",
    "    return item.startswith('B')\n",
    "basket = filter(starts_with_b, t4)\n",
    "result_list = list(basket)\n",
    "\n",
    "print(result_list)\n"
   ]
  },
  {
   "cell_type": "code",
   "execution_count": null,
   "id": "7ef2e54e-9c94-4050-b53d-fdee02b1efc5",
   "metadata": {},
   "outputs": [],
   "source": []
  }
 ],
 "metadata": {
  "kernelspec": {
   "display_name": "Python 3 (ipykernel)",
   "language": "python",
   "name": "python3"
  },
  "language_info": {
   "codemirror_mode": {
    "name": "ipython",
    "version": 3
   },
   "file_extension": ".py",
   "mimetype": "text/x-python",
   "name": "python",
   "nbconvert_exporter": "python",
   "pygments_lexer": "ipython3",
   "version": "3.10.8"
  }
 },
 "nbformat": 4,
 "nbformat_minor": 5
}
