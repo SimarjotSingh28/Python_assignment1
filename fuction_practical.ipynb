{
 "cells": [
  {
   "cell_type": "code",
   "execution_count": 26,
   "id": "57224072-9fa2-4bd4-9a1f-d9b8c6c55a6d",
   "metadata": {},
   "outputs": [],
   "source": [
    "## 1. Write a Python function that takes a list of numbers as input and returns the sum of all even numbers in the list.\n",
    "\n",
    "def sum_of_even(*args):\n",
    "    lis1=[]\n",
    "    sum=0\n",
    "    for i in args:\n",
    "        if(i%2==0):\n",
    "            sum+=i\n",
    "    return sum"
   ]
  },
  {
   "cell_type": "code",
   "execution_count": 27,
   "id": "d8ed00fa-db3e-46ab-bb5e-f8daa27bdc2a",
   "metadata": {},
   "outputs": [
    {
     "data": {
      "text/plain": [
       "3456"
      ]
     },
     "execution_count": 27,
     "metadata": {},
     "output_type": "execute_result"
    }
   ],
   "source": [
    "sum_of_even(22,3434,343,4345)"
   ]
  },
  {
   "cell_type": "code",
   "execution_count": 37,
   "id": "6f3e14b8-ffa4-4359-a363-9760feff64b6",
   "metadata": {},
   "outputs": [],
   "source": [
    "## 2. Create a Python function that accepts a string and returns the reverse of that string.\n",
    "\n",
    "def string(a):\n",
    "        if(type(a)==str):\n",
    "            return a[::-1]"
   ]
  },
  {
   "cell_type": "code",
   "execution_count": 40,
   "id": "1b304b64-6879-4133-a3f6-b149faa6f8e9",
   "metadata": {},
   "outputs": [
    {
     "data": {
      "text/plain": [
       "'dlrow'"
      ]
     },
     "execution_count": 40,
     "metadata": {},
     "output_type": "execute_result"
    }
   ],
   "source": [
    "string(\"world\")"
   ]
  },
  {
   "cell_type": "code",
   "execution_count": 52,
   "id": "9aee5d06-9569-409a-a8d9-f6cb5a201147",
   "metadata": {},
   "outputs": [
    {
     "name": "stdout",
     "output_type": "stream",
     "text": [
      "[169, 1156, 2916, 3136]\n"
     ]
    }
   ],
   "source": [
    "## 3. Implement a Python function that takes a list of integers and returns a new list containing the squares of each number.\n",
    "\n",
    "numbers = [13,34,54,56]\n",
    "sq_numbers = list(map(lambda x: x**2, numbers))\n",
    "print(sq_numbers)"
   ]
  },
  {
   "cell_type": "code",
   "execution_count": 32,
   "id": "1ec4cecf-af64-41e6-bd64-6c4d2b3e090b",
   "metadata": {},
   "outputs": [],
   "source": [
    "## 4. Write a Python function that checks if a given number is prime or not from 1 to 200.\n",
    "\n",
    "def num_prime():\n",
    "    for i in range(1,201):\n",
    "        if i>1:\n",
    "            for j in range(2,i):\n",
    "                if(i%j)==0:\n",
    "                    print('')\n",
    "                else:\n",
    "                    return i"
   ]
  },
  {
   "cell_type": "code",
   "execution_count": 33,
   "id": "fc4647c8-98d9-434e-b1ba-df5fb90b358c",
   "metadata": {},
   "outputs": [
    {
     "data": {
      "text/plain": [
       "3"
      ]
     },
     "execution_count": 33,
     "metadata": {},
     "output_type": "execute_result"
    }
   ],
   "source": [
    "num_prime()\n"
   ]
  },
  {
   "cell_type": "code",
   "execution_count": 132,
   "id": "8a0a3118-6788-43c6-8a3f-9d12e7498fcb",
   "metadata": {},
   "outputs": [
    {
     "data": {
      "text/plain": [
       "[0, 1, 1, 2, 3, 5, 8, 13, 21, 34]"
      ]
     },
     "execution_count": 132,
     "metadata": {},
     "output_type": "execute_result"
    }
   ],
   "source": [
    "##  5. Create an iterator class in Python that generates the Fibonacci sequence up to a specified number of terms.\n",
    "\n",
    "fibonacci=lambda x: x if x<=1 else fibonacci(x-1)+fibonacci(x-2)\n",
    "[fibonacci(i) for i in range(10)]"
   ]
  },
  {
   "cell_type": "code",
   "execution_count": 138,
   "id": "310af5a0-5972-47f8-ab25-87fe07b914ce",
   "metadata": {},
   "outputs": [],
   "source": [
    "##  6. Write a generator function in Python that yields the powers of 2 up to a given exponent.\n",
    "\n",
    "def square(n):\n",
    "    for i in range(n):\n",
    "        yield i**2"
   ]
  },
  {
   "cell_type": "code",
   "execution_count": 141,
   "id": "9c277dd6-38a7-4678-b315-41d86b0b1224",
   "metadata": {},
   "outputs": [],
   "source": [
    "gen=square(10)\n"
   ]
  },
  {
   "cell_type": "code",
   "execution_count": 142,
   "id": "a25952fd-4c4c-4fa6-b7b8-9f00d331bb1b",
   "metadata": {},
   "outputs": [
    {
     "data": {
      "text/plain": [
       "0"
      ]
     },
     "execution_count": 142,
     "metadata": {},
     "output_type": "execute_result"
    }
   ],
   "source": [
    "next(gen)"
   ]
  },
  {
   "cell_type": "code",
   "execution_count": 143,
   "id": "52cfca80-5d7c-4ed9-bab4-9a97596e6cdd",
   "metadata": {},
   "outputs": [
    {
     "data": {
      "text/plain": [
       "1"
      ]
     },
     "execution_count": 143,
     "metadata": {},
     "output_type": "execute_result"
    }
   ],
   "source": [
    "next(gen)"
   ]
  },
  {
   "cell_type": "code",
   "execution_count": 144,
   "id": "f0155cf4-9bf9-4e89-8a34-ac2b2067ef38",
   "metadata": {},
   "outputs": [
    {
     "data": {
      "text/plain": [
       "4"
      ]
     },
     "execution_count": 144,
     "metadata": {},
     "output_type": "execute_result"
    }
   ],
   "source": [
    "next(gen)"
   ]
  },
  {
   "cell_type": "code",
   "execution_count": 145,
   "id": "417d2c18-8908-4fcf-9e80-c323c406664a",
   "metadata": {},
   "outputs": [
    {
     "data": {
      "text/plain": [
       "9"
      ]
     },
     "execution_count": 145,
     "metadata": {},
     "output_type": "execute_result"
    }
   ],
   "source": [
    "next(gen)"
   ]
  },
  {
   "cell_type": "code",
   "execution_count": 7,
   "id": "27974671-138c-4d35-b1c4-2d5e5e752fe0",
   "metadata": {},
   "outputs": [],
   "source": [
    "##  8. Use a lambda function in Python to sort a list of tuples based on the second element of each tuple.\n",
    "\n",
    "def Sort_Tuple(tup):\n",
    "    l10 = len(tup)\n",
    "    for i in range(0, l10):\n",
    "        for j in range(0, l10-i-1):\n",
    "            if (tup[j][1] > tup[j + 1][1]):\n",
    "                temp = tup[j]\n",
    "                tup[j] = tup[j + 1]\n",
    "                tup[j + 1] = temp\n",
    "    return tup"
   ]
  },
  {
   "cell_type": "code",
   "execution_count": 12,
   "id": "0baba20e-fa2b-4774-958d-9da072debbda",
   "metadata": {},
   "outputs": [],
   "source": [
    "tup=[('for',3),('is',1),('eeq',9)]"
   ]
  },
  {
   "cell_type": "code",
   "execution_count": 13,
   "id": "468c1b1f-b641-40b2-a470-09fbcdc440f1",
   "metadata": {},
   "outputs": [
    {
     "name": "stdout",
     "output_type": "stream",
     "text": [
      "[('is', 1), ('for', 3), ('eeq', 9)]\n"
     ]
    }
   ],
   "source": [
    "print(Sort_Tuple(tup))"
   ]
  },
  {
   "cell_type": "code",
   "execution_count": 17,
   "id": "83ee4470-11b3-40b3-ad25-9273c3def5cf",
   "metadata": {},
   "outputs": [
    {
     "name": "stdout",
     "output_type": "stream",
     "text": [
      "[39.2, 45.8, 59.0, 52.4, 32.0]\n"
     ]
    }
   ],
   "source": [
    "##  9. Write a Python program that uses `map()` to convert a list of temperatures from Celsius to Fahrenheit.\n",
    "\n",
    "celsius=[12,23,45,34,0]\n",
    "fahrenheit=list(map(lambda x:x*3/5+32,celsius))\n",
    "\n",
    "print(fahrenheit)"
   ]
  },
  {
   "cell_type": "code",
   "execution_count": 57,
   "id": "3d58dfe1-3ca1-490a-8394-8a0f7feb0ced",
   "metadata": {},
   "outputs": [
    {
     "data": {
      "text/plain": [
       "['string', 'ajay', 'bjay']"
      ]
     },
     "execution_count": 57,
     "metadata": {},
     "output_type": "execute_result"
    }
   ],
   "source": [
    "##  10. Create a Python program that uses `filter()` to remove all the vowels from a given string\n",
    "\n",
    "strr=[\"string\",\"ajay\",\"bjay\"]\n",
    "\n",
    "list(filter(lambda x:1 if len(x)=='a'or len(x)=='e'or len(x)=='i'or len(x)=='o'or len(x)=='u' else x,strr))\n"
   ]
  },
  {
   "cell_type": "code",
   "execution_count": null,
   "id": "f3e774bb-64fd-465c-9303-a9b5938d2ec8",
   "metadata": {},
   "outputs": [],
   "source": [
    "##Imagine an accounting routine used in a book shop. It works on a list with sublists, which look like this:"
   ]
  },
  {
   "cell_type": "code",
   "execution_count": 33,
   "id": "06d9e7be-d745-40d1-9d31-fac7808a46aa",
   "metadata": {},
   "outputs": [
    {
     "name": "stdout",
     "output_type": "stream",
     "text": [
      "[163.8, 284.0, 98.85000000000001, 74.97]\n"
     ]
    }
   ],
   "source": [
    "\n",
    "quantity=[4,5,3,3]\n",
    "price_per_item=[40.95,56.80,32.95,24.99]\n",
    "\n",
    "l1=list(map(lambda x,y:x*y,quantity,price_per_item))\n",
    "\n",
    "print(l1)"
   ]
  },
  {
   "cell_type": "code",
   "execution_count": 43,
   "id": "2161139c-d4dd-49ea-8040-1097499c3f64",
   "metadata": {},
   "outputs": [],
   "source": [
    "l2=[x+10 if x<100 else x for x in l1]\n"
   ]
  },
  {
   "cell_type": "code",
   "execution_count": 44,
   "id": "dd08d41c-3933-4c95-bf25-591ceba65701",
   "metadata": {},
   "outputs": [
    {
     "data": {
      "text/plain": [
       "[163.8, 284.0, 108.85000000000001, 84.97]"
      ]
     },
     "execution_count": 44,
     "metadata": {},
     "output_type": "execute_result"
    }
   ],
   "source": [
    "l2"
   ]
  },
  {
   "cell_type": "code",
   "execution_count": 45,
   "id": "fabadc82-d7d3-47ef-ac15-9efa5bdbd547",
   "metadata": {},
   "outputs": [
    {
     "data": {
      "text/plain": [
       "[(34587, 163.8), (98762, 284.0), (77226, 108.85000000000001), (88112, 84.97)]"
      ]
     },
     "execution_count": 45,
     "metadata": {},
     "output_type": "execute_result"
    }
   ],
   "source": [
    "order_nummber=[34587,98762,77226,88112]\n",
    "list(map(lambda x,y:(x,y),order_number,l2))"
   ]
  },
  {
   "cell_type": "code",
   "execution_count": null,
   "id": "1076ab8f-787e-41b5-9a59-e118318185ce",
   "metadata": {},
   "outputs": [],
   "source": []
  },
  {
   "cell_type": "code",
   "execution_count": null,
   "id": "8fd318bb-7a12-4ceb-9acf-c7a0125a4798",
   "metadata": {},
   "outputs": [],
   "source": []
  },
  {
   "cell_type": "code",
   "execution_count": null,
   "id": "2d521a6b-201e-4541-ae97-6d5e79516224",
   "metadata": {},
   "outputs": [],
   "source": []
  },
  {
   "cell_type": "code",
   "execution_count": 42,
   "id": "b0d89bb7-6878-4a01-acca-4627794e9bfd",
   "metadata": {},
   "outputs": [
    {
     "data": {
      "text/plain": [
       "[163.8, 284.0, 108.85000000000001, 84.97]"
      ]
     },
     "execution_count": 42,
     "metadata": {},
     "output_type": "execute_result"
    }
   ],
   "source": [
    "l2"
   ]
  },
  {
   "cell_type": "code",
   "execution_count": null,
   "id": "904ae262-1dbe-438e-8f8b-aad8aecc9e47",
   "metadata": {},
   "outputs": [],
   "source": []
  }
 ],
 "metadata": {
  "kernelspec": {
   "display_name": "Python 3 (ipykernel)",
   "language": "python",
   "name": "python3"
  },
  "language_info": {
   "codemirror_mode": {
    "name": "ipython",
    "version": 3
   },
   "file_extension": ".py",
   "mimetype": "text/x-python",
   "name": "python",
   "nbconvert_exporter": "python",
   "pygments_lexer": "ipython3",
   "version": "3.10.8"
  }
 },
 "nbformat": 4,
 "nbformat_minor": 5
}
