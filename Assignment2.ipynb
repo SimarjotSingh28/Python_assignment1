{
 "cells": [
  {
   "cell_type": "code",
   "execution_count": 3,
   "id": "3dbd0fd3-43a0-4a2d-9437-93fb1dc11a26",
   "metadata": {},
   "outputs": [
    {
     "name": "stdout",
     "output_type": "stream",
     "text": [
      "a\n",
      "aja\n"
     ]
    }
   ],
   "source": [
    "##Discuss string slicing and provide examples\n",
    "\n",
    "#python slicing is about obtaining a sub-string from the given string through slicing it.\n",
    "#syntax=  slice()\n",
    "a=\"ajay\"\n",
    "s1=slice(1)\n",
    "s2=slice(3)\n",
    "print(a[s1])\n",
    "print(a[s2])"
   ]
  },
  {
   "cell_type": "code",
   "execution_count": 6,
   "id": "1bc16309-d98b-4d8a-b057-7b520e194255",
   "metadata": {},
   "outputs": [
    {
     "data": {
      "text/plain": [
       "list"
      ]
     },
     "execution_count": 6,
     "metadata": {},
     "output_type": "execute_result"
    }
   ],
   "source": [
    "## Explain the key features of lists in Python\n",
    "\n",
    "#list in python \n",
    "#syntax\n",
    "lis=[1,2,3,4,7]\n",
    "type(lis)\n",
    "#features of list are-\n",
    "#list are stored in an order\n",
    "#list is mutable type \n",
    "#integer as well as string can be stored in it\n",
    "#list are dynamic in nature"
   ]
  },
  {
   "cell_type": "code",
   "execution_count": 10,
   "id": "ce61a9c8-8149-4d1e-a057-908f5b0c8626",
   "metadata": {},
   "outputs": [
    {
     "data": {
      "text/plain": [
       "'Sanjay'"
      ]
     },
     "execution_count": 10,
     "metadata": {},
     "output_type": "execute_result"
    }
   ],
   "source": [
    "##Describe how to access, modify, and delete elements in a list with examples\n",
    "lis1=[\"Ajay\",\"Sanjay\",\"Bijay\"]\n",
    "#to access one item we use list[item no ]\n",
    "lis1[1]"
   ]
  },
  {
   "cell_type": "code",
   "execution_count": 9,
   "id": "5db67022-82ce-415f-a4ad-1104116c965f",
   "metadata": {},
   "outputs": [
    {
     "data": {
      "text/plain": [
       "['Sanjay', 'Bijay']"
      ]
     },
     "execution_count": 9,
     "metadata": {},
     "output_type": "execute_result"
    }
   ],
   "source": [
    "#to access item except the first item we use \n",
    "lis1[1:]"
   ]
  },
  {
   "cell_type": "code",
   "execution_count": 11,
   "id": "3e68c4c5-e0ac-4476-baa9-9df3328140f2",
   "metadata": {},
   "outputs": [
    {
     "data": {
      "text/plain": [
       "['Ajay', 'Sanjay', 'Bijay']"
      ]
     },
     "execution_count": 11,
     "metadata": {},
     "output_type": "execute_result"
    }
   ],
   "source": [
    "#to access whole list we use \n",
    "lis1"
   ]
  },
  {
   "cell_type": "code",
   "execution_count": 12,
   "id": "546ef912-88b9-44cf-a998-8adb81c26b2c",
   "metadata": {},
   "outputs": [
    {
     "data": {
      "text/plain": [
       "['Ajay', 'Sanjay', 'Bijay', 'auja']"
      ]
     },
     "execution_count": 12,
     "metadata": {},
     "output_type": "execute_result"
    }
   ],
   "source": [
    "#modify\n",
    "#to modify the item we use append keyword\n",
    "lis1.append(\"auja\")\n",
    "lis1"
   ]
  },
  {
   "cell_type": "code",
   "execution_count": 17,
   "id": "db4513bd-8adb-4f50-a3e1-7a8f9e644e0c",
   "metadata": {},
   "outputs": [
    {
     "data": {
      "text/plain": [
       "['Ajay', 'Aujla', 'Aujla', 'Sanjay', 'Aujla', 'Aujla', 'Bijay', 'auja']"
      ]
     },
     "execution_count": 17,
     "metadata": {},
     "output_type": "execute_result"
    }
   ],
   "source": [
    "#to add item before indexing\n",
    "lis1.insert(1,\"Aujla\")\n",
    "lis1"
   ]
  },
  {
   "cell_type": "code",
   "execution_count": 21,
   "id": "a57b75dd-406f-488c-9657-73456e2a2376",
   "metadata": {},
   "outputs": [
    {
     "data": {
      "text/plain": [
       "['Apple', 'Banana', 'oreo', 'potato']"
      ]
     },
     "execution_count": 21,
     "metadata": {},
     "output_type": "execute_result"
    }
   ],
   "source": [
    "#extend-it is used to append elements from another list\n",
    "mylist = [\"Apple\", \"Banana\",]\n",
    "brotherslist = [\"oreo\", \"potato\"]\n",
    "mylist.extend(brotherslist)\n",
    "mylist"
   ]
  },
  {
   "cell_type": "code",
   "execution_count": 22,
   "id": "49d26b79-b9fd-4e6b-885e-59bbe129da94",
   "metadata": {},
   "outputs": [
    {
     "data": {
      "text/plain": [
       "'potato'"
      ]
     },
     "execution_count": 22,
     "metadata": {},
     "output_type": "execute_result"
    }
   ],
   "source": [
    "#to delete items we use\n",
    "mylist.pop()"
   ]
  },
  {
   "cell_type": "code",
   "execution_count": 23,
   "id": "b235a3f2-86e3-44f6-aa0d-41598847bbf4",
   "metadata": {},
   "outputs": [
    {
     "data": {
      "text/plain": [
       "['Apple', 'Banana', 'oreo']"
      ]
     },
     "execution_count": 23,
     "metadata": {},
     "output_type": "execute_result"
    }
   ],
   "source": [
    "mylist"
   ]
  },
  {
   "cell_type": "code",
   "execution_count": 24,
   "id": "d3a0b0c3-f20e-4e13-9b8f-8691eb6adc68",
   "metadata": {},
   "outputs": [],
   "source": [
    "#to remove all the element in list we use \n",
    "mylist.clear()"
   ]
  },
  {
   "cell_type": "code",
   "execution_count": 25,
   "id": "160d15f8-8b6b-4f53-8d66-a1956565115b",
   "metadata": {},
   "outputs": [
    {
     "data": {
      "text/plain": [
       "[]"
      ]
     },
     "execution_count": 25,
     "metadata": {},
     "output_type": "execute_result"
    }
   ],
   "source": [
    "mylist"
   ]
  },
  {
   "cell_type": "code",
   "execution_count": 27,
   "id": "1ab7d402-2af0-44ea-bb9a-1146ef603c85",
   "metadata": {},
   "outputs": [],
   "source": [
    "##Compare and contrast tuples and lists with examples\n",
    "\n",
    "#list-list are mutable.it can be changed new elements can be introduced. it requires memory location. it is ordered. syntax-[]\n",
    "#tuple-Tuple are immutable. it cannot be changed. it is more efficient and faster to access. it is also ordered.Syntax-()\n",
    "\n",
    "#examples- \n",
    "lis2=[\"ajay\",1,7,3+4j]\n",
    "tup4=(\"apple\",3,5,\"bijay\")"
   ]
  },
  {
   "cell_type": "code",
   "execution_count": 29,
   "id": "9eeafae9-cfd1-4905-81db-f7acdf1233db",
   "metadata": {},
   "outputs": [
    {
     "data": {
      "text/plain": [
       "['ajay', 1, 7, (3+4j)]"
      ]
     },
     "execution_count": 29,
     "metadata": {},
     "output_type": "execute_result"
    }
   ],
   "source": [
    "lis2\n"
   ]
  },
  {
   "cell_type": "code",
   "execution_count": 30,
   "id": "3b11452e-8606-4c5a-a791-bc75b4d64fb5",
   "metadata": {},
   "outputs": [
    {
     "data": {
      "text/plain": [
       "('apple', 3, 5, 'bijay')"
      ]
     },
     "execution_count": 30,
     "metadata": {},
     "output_type": "execute_result"
    }
   ],
   "source": [
    "tup4"
   ]
  },
  {
   "cell_type": "code",
   "execution_count": 31,
   "id": "578fdcbd-a5f6-4881-9e4e-2df0abbc83ee",
   "metadata": {},
   "outputs": [
    {
     "data": {
      "text/plain": [
       "list"
      ]
     },
     "execution_count": 31,
     "metadata": {},
     "output_type": "execute_result"
    }
   ],
   "source": [
    "type(lis2)"
   ]
  },
  {
   "cell_type": "code",
   "execution_count": 32,
   "id": "d0569ce6-d49a-49b2-8fb9-7e42d96bd86d",
   "metadata": {},
   "outputs": [
    {
     "data": {
      "text/plain": [
       "tuple"
      ]
     },
     "execution_count": 32,
     "metadata": {},
     "output_type": "execute_result"
    }
   ],
   "source": [
    "type(tup4)"
   ]
  },
  {
   "cell_type": "code",
   "execution_count": 33,
   "id": "a55f531b-53e0-414c-a30c-1d5c5d6b98fb",
   "metadata": {},
   "outputs": [
    {
     "data": {
      "text/plain": [
       "{2, 3, 'ajay'}"
      ]
     },
     "execution_count": 33,
     "metadata": {},
     "output_type": "execute_result"
    }
   ],
   "source": [
    "##Describe the key features of sets and provide examples of their use.\n",
    "\n",
    "#sets in python\n",
    "#sets are unorderd and unique collection of elements\n",
    "#it allows only unique elements i.e. any duplicate elements will be considered as one element.\n",
    "#it is unordered so indexing will not work with it.\n",
    "#syntax-{}\n",
    "s={2,\"ajay\",\"ajay\",3,2}\n",
    "s"
   ]
  },
  {
   "cell_type": "code",
   "execution_count": 34,
   "id": "65b2e133-9c31-41ac-aafa-e8f73a54086a",
   "metadata": {},
   "outputs": [
    {
     "data": {
      "text/plain": [
       "set"
      ]
     },
     "execution_count": 34,
     "metadata": {},
     "output_type": "execute_result"
    }
   ],
   "source": [
    "type(s)"
   ]
  },
  {
   "cell_type": "code",
   "execution_count": 35,
   "id": "94aef918-028b-46d6-94c0-c4e8edfc7619",
   "metadata": {},
   "outputs": [],
   "source": [
    "s.add(6) #to add elements in sets we use add keyword in it"
   ]
  },
  {
   "cell_type": "code",
   "execution_count": 36,
   "id": "2143f406-8e5c-4dee-86f8-6dfca5f1e697",
   "metadata": {},
   "outputs": [
    {
     "data": {
      "text/plain": [
       "{2, 3, 6, 'ajay'}"
      ]
     },
     "execution_count": 36,
     "metadata": {},
     "output_type": "execute_result"
    }
   ],
   "source": [
    "s"
   ]
  },
  {
   "cell_type": "code",
   "execution_count": 37,
   "id": "18cb4f76-34a3-4218-9a15-6d4478ee0ef6",
   "metadata": {},
   "outputs": [],
   "source": [
    "#there are many use cases for it for example if we have list we can make list as sets so only unique elements will be shown through it,\n",
    "\n",
    "typ4=[1,5,7,\"ram\",\"sham\",\"ram\",\"ajy\",5,1]\n",
    "s=set(typ4)"
   ]
  },
  {
   "cell_type": "code",
   "execution_count": 38,
   "id": "8576c907-46c0-43c6-870a-79abc00fad68",
   "metadata": {},
   "outputs": [
    {
     "data": {
      "text/plain": [
       "{1, 5, 7, 'ajy', 'ram', 'sham'}"
      ]
     },
     "execution_count": 38,
     "metadata": {},
     "output_type": "execute_result"
    }
   ],
   "source": [
    "s"
   ]
  },
  {
   "cell_type": "code",
   "execution_count": 39,
   "id": "100f3180-1c5c-4631-96b8-0bb63db512ed",
   "metadata": {},
   "outputs": [
    {
     "data": {
      "text/plain": [
       "set"
      ]
     },
     "execution_count": 39,
     "metadata": {},
     "output_type": "execute_result"
    }
   ],
   "source": [
    "type(s)"
   ]
  },
  {
   "cell_type": "code",
   "execution_count": 41,
   "id": "37fb61a7-78f9-43b4-b7bd-b0ae82e574d0",
   "metadata": {},
   "outputs": [
    {
     "data": {
      "text/plain": [
       "set"
      ]
     },
     "execution_count": 41,
     "metadata": {},
     "output_type": "execute_result"
    }
   ],
   "source": [
    "##Discuss the use cases of tuples and sets in Python programming\n",
    "\n",
    "#tuple is used because it store elements and is immutable which means the elments cannot be changed sfter alteration\n",
    "#sets are used in many cases- for example if we have list we can make list as sets so only unique elements will be shown through it,\n",
    "typ5=[1,5,7,\"ram\",\"sham\",\"ram\",\"ajy\",5,1]\n",
    "s1=set(typ5)\n",
    "type(s1)"
   ]
  },
  {
   "cell_type": "code",
   "execution_count": 42,
   "id": "ec9d2d57-d886-4ea1-a478-4894a89076e8",
   "metadata": {},
   "outputs": [
    {
     "data": {
      "text/plain": [
       "{1, 5, 7, 'ajy', 'ram', 'sham'}"
      ]
     },
     "execution_count": 42,
     "metadata": {},
     "output_type": "execute_result"
    }
   ],
   "source": [
    "s"
   ]
  },
  {
   "cell_type": "code",
   "execution_count": 43,
   "id": "f7903d32-1bfd-4bb3-a314-5564f1184ccf",
   "metadata": {},
   "outputs": [],
   "source": [
    "## Describe how to add, modify, and delete items in a dictionary with examples\n",
    "\n",
    "#to add items in a dictonary we use \n",
    "d = {\"name\":\"Ajay\", \"email\":\"ajay@gmail.com\", \"contact\": 1234}"
   ]
  },
  {
   "cell_type": "code",
   "execution_count": 44,
   "id": "8731a4ea-c5dd-42a1-909b-6aaf0af51b72",
   "metadata": {},
   "outputs": [
    {
     "data": {
      "text/plain": [
       "dict"
      ]
     },
     "execution_count": 44,
     "metadata": {},
     "output_type": "execute_result"
    }
   ],
   "source": [
    "type(d)"
   ]
  },
  {
   "cell_type": "code",
   "execution_count": 45,
   "id": "06bf6d5c-0201-4540-b8b0-6129d797c4a6",
   "metadata": {},
   "outputs": [
    {
     "data": {
      "text/plain": [
       "{'name': 'Ajay', 'email': 'ajay@gmail.com', 'contact': 1234}"
      ]
     },
     "execution_count": 45,
     "metadata": {},
     "output_type": "execute_result"
    }
   ],
   "source": [
    "d"
   ]
  },
  {
   "cell_type": "code",
   "execution_count": 48,
   "id": "7d230bc7-fc80-4f33-9686-458a67b0141f",
   "metadata": {},
   "outputs": [],
   "source": [
    "#it is mutable \n",
    "#so\n",
    "d['name']=\"fanah\""
   ]
  },
  {
   "cell_type": "code",
   "execution_count": 49,
   "id": "e2cab64b-4c8b-440f-8cb8-53ffbaac9ba0",
   "metadata": {},
   "outputs": [
    {
     "data": {
      "text/plain": [
       "{'name': 'fanah', 'email': 'ajay@gmail.com', 'contact': 1234}"
      ]
     },
     "execution_count": 49,
     "metadata": {},
     "output_type": "execute_result"
    }
   ],
   "source": [
    "d"
   ]
  },
  {
   "cell_type": "code",
   "execution_count": 50,
   "id": "5f862e8b-fabc-4246-add0-fee02b1e5e8f",
   "metadata": {},
   "outputs": [],
   "source": [
    "#to add\n",
    "d={\"address\":\"sector 45\"}"
   ]
  },
  {
   "cell_type": "code",
   "execution_count": 51,
   "id": "f177ad72-c09f-40b8-bda9-65719bbd3d67",
   "metadata": {},
   "outputs": [
    {
     "data": {
      "text/plain": [
       "{'address': 'sector 45'}"
      ]
     },
     "execution_count": 51,
     "metadata": {},
     "output_type": "execute_result"
    }
   ],
   "source": [
    "d"
   ]
  },
  {
   "cell_type": "code",
   "execution_count": 52,
   "id": "801c844b-8f84-4633-880a-b8cc108de7f8",
   "metadata": {},
   "outputs": [],
   "source": [
    "#to delete \n",
    "del d[\"address\"]"
   ]
  },
  {
   "cell_type": "code",
   "execution_count": 53,
   "id": "80fcd299-e03a-4169-a3ed-1ce7b38ee6dd",
   "metadata": {},
   "outputs": [
    {
     "data": {
      "text/plain": [
       "{}"
      ]
     },
     "execution_count": 53,
     "metadata": {},
     "output_type": "execute_result"
    }
   ],
   "source": [
    "d"
   ]
  },
  {
   "cell_type": "code",
   "execution_count": 54,
   "id": "642c993b-1b4d-4f56-a724-3b33f05a30da",
   "metadata": {},
   "outputs": [],
   "source": [
    "##Discuss the importance of dictionary keys being immutable and provide examples\n",
    "    \n",
    "#for example if a students has all its data stored in dictonary key he or no one else can change the data of students.they are used to store data value in key with the value pair \n",
    "d = {\"name\":\"Ajay\", \"email\":\"ajay@gmail.com\", \"contact\": 1234}\n",
    "#no one can change keys of dictonary"
   ]
  },
  {
   "cell_type": "code",
   "execution_count": null,
   "id": "e0bf79a1-cdb1-4789-bd20-6c6ad4220733",
   "metadata": {},
   "outputs": [],
   "source": []
  }
 ],
 "metadata": {
  "kernelspec": {
   "display_name": "Python 3 (ipykernel)",
   "language": "python",
   "name": "python3"
  },
  "language_info": {
   "codemirror_mode": {
    "name": "ipython",
    "version": 3
   },
   "file_extension": ".py",
   "mimetype": "text/x-python",
   "name": "python",
   "nbconvert_exporter": "python",
   "pygments_lexer": "ipython3",
   "version": "3.10.8"
  }
 },
 "nbformat": 4,
 "nbformat_minor": 5
}
